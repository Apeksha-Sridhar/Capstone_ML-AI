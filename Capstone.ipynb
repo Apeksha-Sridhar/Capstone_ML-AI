{
 "cells": [
  {
   "cell_type": "markdown",
   "id": "7dfa8bd4",
   "metadata": {},
   "source": [
    "# Capstone ML/ AI"
   ]
  },
  {
   "cell_type": "markdown",
   "id": "42ac70cf",
   "metadata": {},
   "source": [
    "## Overview"
   ]
  },
  {
   "cell_type": "markdown",
   "id": "eae8a373",
   "metadata": {},
   "source": [
    "Welcome to my Capstone project! In this project, I have thoroughly cleaned, processed, analyzed, and modeled EEG data to develop a reliable predictive model for diagnosing dementia. By leveraging advanced machine learning techniques, I aim to harness the power of EEG data to accurately identify individuals at risk of dementia. Join me on this exciting journey as we explore the potential of EEG analysis in revolutionizing dementia diagnosis."
   ]
  },
  {
   "cell_type": "markdown",
   "id": "2ec04a8c",
   "metadata": {},
   "source": [
    "## Import Libraries"
   ]
  },
  {
   "cell_type": "code",
   "execution_count": 27,
   "id": "dce2ba8a",
   "metadata": {},
   "outputs": [],
   "source": [
    "import numpy as np\n",
    "from scipy.io import loadmat\n",
    "import pandas as pd\n",
    "import seaborn as sns\n",
    "import warnings\n",
    "import matplotlib.pyplot as plt\n",
    "\n",
    "# Ignore all warnings\n",
    "warnings.filterwarnings(\"ignore\")\n",
    "\n",
    "import os\n",
    "import glob\n",
    "\n",
    "import sys\n",
    "sys.path.append('/Library/Frameworks/Python.framework/Versions/3.10/lib/python3.10/site-packages')\n",
    "import mne\n",
    "\n",
    "from sklearn.model_selection import train_test_split, GridSearchCV\n",
    "from imblearn.over_sampling import SMOTE\n",
    "from sklearn.decomposition import PCA\n",
    "from sklearn.preprocessing import StandardScaler\n",
    "from sklearn.tree import DecisionTreeClassifier\n",
    "from sklearn.linear_model import LogisticRegression\n",
    "from sklearn.neighbors import KNeighborsClassifier\n",
    "from sklearn.metrics import confusion_matrix, recall_score, accuracy_score\n",
    "from sklearn.svm import SVC\n",
    "from sklearn.ensemble import RandomForestClassifier\n",
    "from keras.models import Sequential\n",
    "from keras.layers import Conv2D, MaxPooling2D, Flatten, Dense, Dropout, Conv1D, MaxPooling1D\n",
    "from keras.wrappers.scikit_learn import KerasClassifier\n",
    "from keras.optimizers import Adam\n",
    "from sklearn.preprocessing import LabelEncoder\n",
    "from sklearn.experimental import enable_halving_search_cv\n",
    "from sklearn.model_selection import HalvingGridSearchCV\n",
    "from tabulate import tabulate\n",
    "import tensorflow as tf\n",
    "from sklearn.metrics import precision_score, recall_score"
   ]
  },
  {
   "cell_type": "markdown",
   "id": "601d2961",
   "metadata": {},
   "source": [
    "## Dataset\n",
    "\n",
    "This dataset contains the EEG recordings in resting state from 88 subjects in total.  \n",
    "\n",
    "1. Participants: 36 of them were diagnosed with Alzheimer's disease (AD group), 23 were diagnosed with Frontotemporal Dementia (FTD group) and 29 were healthy subjects (CN group). Along with EEG data, cognitive state was evaluated by the international Mini-Mental State Examination (MMSE). \n",
    "\n",
    "2. EEG Recordings: Recordings were aquired with 19 scalp electrodes (Fp1, Fp2, F7, F3, Fz, F4, F8, T3, C3, Cz, C4, T4, T5, P3, Pz, P4, T6, O1, and O2)\n",
    "\n",
    "3. Preprocessing: First, a Butterworth band-pass filter 0.5-45 Hz was applied. Then, the Independent Component Analysis (ICA) method was performed, transforming the 19 EEG signals to 19 ICA components. \n"
   ]
  },
  {
   "cell_type": "markdown",
   "id": "09438fc0",
   "metadata": {},
   "source": [
    "### Data Extraction"
   ]
  },
  {
   "cell_type": "markdown",
   "id": "f21aff66",
   "metadata": {},
   "source": [
    "Once the derivates data have been downloaded from openneuro.org (link in README), run this cell to collect all required data from the source and move them into 1 folder."
   ]
  },
  {
   "cell_type": "code",
   "execution_count": null,
   "id": "741c428b",
   "metadata": {},
   "outputs": [],
   "source": [
    "### Run 1 time: copy and add files from all folders in a directory to a single folder\n",
    "\n",
    "import os\n",
    "import shutil\n",
    "\n",
    "# specify the path of the source directory\n",
    "source_dir = '/Users/apekshasridhar/Downloads/Capstone-2/derivatives'\n",
    "\n",
    "# specify the path of the destination directory\n",
    "destination_dir = '/Users/apekshasridhar/Downloads/Capstone-2/all_subjs'\n",
    "\n",
    "# loop through each subdirectory of the source directory\n",
    "for root, dirs, files in os.walk(source_dir):\n",
    "    # loop through each file in the current subdirectory\n",
    "    for filename in files:\n",
    "        # create the full path of the source file\n",
    "        source_file = os.path.join(root, filename)\n",
    "        # create the full path of the destination file\n",
    "        destination_file = os.path.join(destination_dir, filename)\n",
    "        # transfer the file to the destination directory\n",
    "        shutil.copy(source_file, destination_file)\n"
   ]
  },
  {
   "cell_type": "markdown",
   "id": "877fec9a",
   "metadata": {},
   "source": [
    "### Data Cleaning\n",
    "\n",
    "Calculating measures of peak frequency, mean frequency, and global power from EEG data is essential for extracting meaningful information and enhancing predictive analysis using machine learning models. These measures provide valuable insights into the underlying neural activity and can significantly contribute to the accuracy and interpretability of EEG-based predictive models.\n",
    "\n",
    "1. Peak frequency: This measure characterizes the dominant frequencies present in EEG signals. It captures important spectral information related to brain oscillations and can reveal patterns associated with different cognitive states or neurological conditions. \n",
    "\n",
    "2. Mean Frequency: It provides information about the overall distribution of frequencies present in the brain activity. By analyzing the mean frequency, we can gain insights into the average frequency bands and their contributions to cognitive processes. \n",
    "\n",
    "3. Global Power: Total power can be used as a measure of the overall brain activity level or arousal state. Higher total power values indicate greater overall electrical activity in the brain, while lower values may indicate reduced activity or a more quiescent state.\n",
    "\n"
   ]
  },
  {
   "cell_type": "markdown",
   "id": "93900bb3",
   "metadata": {},
   "source": [
    "Creating three different dataframes for the three measures, i.e., peak frequency, mean frequency, and global power, allows for a more comprehensive analysis of the EEG data. Each measure captures distinct aspects of the brain activity and provides unique insights into cognitive processes and neurological conditions. By separating the measures into different dataframes, we can perform specific analyses on each measure individually and utilize ensemble techniques to aggregate the results and predict the classification task. "
   ]
  },
  {
   "cell_type": "code",
   "execution_count": 2,
   "id": "ac68dc62",
   "metadata": {},
   "outputs": [
    {
     "name": "stdout",
     "output_type": "stream",
     "text": [
      "Peak Frequency DataFrame shape: (88, 21)\n",
      "Mean Frequency DataFrame shape: (88, 21)\n",
      "Global Power DataFrame shape: (88, 21)\n"
     ]
    }
   ],
   "source": [
    "## Preprocess\n",
    "\n",
    "# Load EEG data and calculate the Peak Frequency, Mean Frequency, and Global Power for each EEG ICA channel.\n",
    "\n",
    "directory = '/Users/psachdeva/Downloads/Capstone/all_subj'\n",
    "file_pattern = '*.set'\n",
    "\n",
    "mne.set_log_level(\"WARNING\")  # Set the log level to suppress verbose messages\n",
    "\n",
    "def process_file(file_path):\n",
    "    raw = mne.io.read_raw_eeglab(file_path, preload=True)\n",
    "    subj_id = os.path.basename(file_path).split('_')[0]\n",
    "    ch_names = raw.ch_names\n",
    "    # Get indices of EEG channels\n",
    "    eeg_inds = mne.pick_types(raw.info, meg=False, eeg=True)\n",
    "    # Perform Fourier transformation and obtain power spectral density values\n",
    "    psds, freqs = mne.time_frequency.psd_array_multitaper(raw.get_data()[eeg_inds], sfreq=raw.info['sfreq'], fmax=50)\n",
    "\n",
    "    # Create a list to store the calculated scores for each EEG channel\n",
    "    channel_scores_peak = []\n",
    "    channel_scores_mean = []\n",
    "    channel_scores_gp = []\n",
    "\n",
    "    # Iterate over each EEG channel\n",
    "    for i, ch_idx in enumerate(eeg_inds):\n",
    "        channel_name = ch_names[ch_idx]\n",
    "        channel_psds = psds[i]\n",
    "\n",
    "        # Calculate the peak frequency for the channel\n",
    "        peak_freq = freqs[np.argmax(channel_psds)]\n",
    "        # Calculate the mean frequency for the channel\n",
    "        mean_freq = np.sum(channel_psds * freqs) / np.sum(channel_psds)\n",
    "        # Calculate the Global Power for the channel (sum of power across all frequencies)\n",
    "        gp = np.sum(channel_psds)\n",
    "\n",
    "        # Append the calculated scores for the channel to the respective lists\n",
    "        channel_scores_peak.append([subj_id, 'Peak Frequency', channel_name, peak_freq])\n",
    "        channel_scores_mean.append([subj_id, 'Mean Frequency', channel_name, mean_freq])\n",
    "        channel_scores_gp.append([subj_id, 'Global Power', channel_name, gp])\n",
    "\n",
    "    # Create DataFrames from the lists of scores for the subject\n",
    "    df_subject_peak = pd.DataFrame(channel_scores_peak, columns=['subj_id', 'Type', 'Channel', 'Value'])\n",
    "    df_subject_mean = pd.DataFrame(channel_scores_mean, columns=['subj_id', 'Type', 'Channel', 'Value'])\n",
    "    df_subject_gp = pd.DataFrame(channel_scores_gp, columns=['subj_id', 'Type', 'Channel', 'Value'])\n",
    "\n",
    "    return df_subject_peak, df_subject_mean, df_subject_gp\n",
    "\n",
    "df_list_peak = []\n",
    "df_list_mean = []\n",
    "df_list_gp = []\n",
    "for file_path in glob.glob(os.path.join(directory, file_pattern)):\n",
    "    df_peak, df_mean, df_gp = process_file(file_path)\n",
    "    df_list_peak.append(df_peak)\n",
    "    df_list_mean.append(df_mean)\n",
    "    df_list_gp.append(df_gp)\n",
    "\n",
    "df_peak = pd.concat(df_list_peak, axis=0, ignore_index=True)\n",
    "df_mean = pd.concat(df_list_mean, axis=0, ignore_index=True)\n",
    "df_gp = pd.concat(df_list_gp, axis=0, ignore_index=True)\n",
    "\n",
    "# Reshape the DataFrames to have channels as columns\n",
    "df_peak = df_peak.pivot(index=['subj_id', 'Type'], columns='Channel', values='Value').reset_index()\n",
    "df_mean = df_mean.pivot(index=['subj_id', 'Type'], columns='Channel', values='Value').reset_index()\n",
    "df_gp = df_gp.pivot(index=['subj_id', 'Type'], columns='Channel', values='Value').reset_index()\n",
    "\n",
    "print(\"Peak Frequency DataFrame shape:\", df_peak.shape)\n",
    "print(\"Mean Frequency DataFrame shape:\", df_mean.shape)\n",
    "print(\"Global Power DataFrame shape:\", df_gp.shape)\n"
   ]
  },
  {
   "cell_type": "code",
   "execution_count": 13,
   "id": "d2486b35",
   "metadata": {
    "scrolled": true
   },
   "outputs": [
    {
     "data": {
      "text/html": [
       "<div>\n",
       "<style scoped>\n",
       "    .dataframe tbody tr th:only-of-type {\n",
       "        vertical-align: middle;\n",
       "    }\n",
       "\n",
       "    .dataframe tbody tr th {\n",
       "        vertical-align: top;\n",
       "    }\n",
       "\n",
       "    .dataframe thead th {\n",
       "        text-align: right;\n",
       "    }\n",
       "</style>\n",
       "<table border=\"1\" class=\"dataframe\">\n",
       "  <thead>\n",
       "    <tr style=\"text-align: right;\">\n",
       "      <th>Channel</th>\n",
       "      <th>subj_id</th>\n",
       "      <th>Type</th>\n",
       "      <th>C3</th>\n",
       "      <th>C4</th>\n",
       "      <th>Cz</th>\n",
       "      <th>F3</th>\n",
       "      <th>F4</th>\n",
       "      <th>F7</th>\n",
       "      <th>F8</th>\n",
       "      <th>Fp1</th>\n",
       "      <th>...</th>\n",
       "      <th>Fz</th>\n",
       "      <th>O1</th>\n",
       "      <th>O2</th>\n",
       "      <th>P3</th>\n",
       "      <th>P4</th>\n",
       "      <th>Pz</th>\n",
       "      <th>T3</th>\n",
       "      <th>T4</th>\n",
       "      <th>T5</th>\n",
       "      <th>T6</th>\n",
       "    </tr>\n",
       "  </thead>\n",
       "  <tbody>\n",
       "    <tr>\n",
       "      <th>0</th>\n",
       "      <td>sub-001</td>\n",
       "      <td>Peak Frequency</td>\n",
       "      <td>0.406802</td>\n",
       "      <td>0.406802</td>\n",
       "      <td>0.406802</td>\n",
       "      <td>0.406802</td>\n",
       "      <td>0.406802</td>\n",
       "      <td>0.406802</td>\n",
       "      <td>0.406802</td>\n",
       "      <td>0.360120</td>\n",
       "      <td>...</td>\n",
       "      <td>0.406802</td>\n",
       "      <td>0.406802</td>\n",
       "      <td>0.351784</td>\n",
       "      <td>0.406802</td>\n",
       "      <td>0.351784</td>\n",
       "      <td>0.406802</td>\n",
       "      <td>0.406802</td>\n",
       "      <td>0.406802</td>\n",
       "      <td>0.351784</td>\n",
       "      <td>0.406802</td>\n",
       "    </tr>\n",
       "    <tr>\n",
       "      <th>1</th>\n",
       "      <td>sub-002</td>\n",
       "      <td>Peak Frequency</td>\n",
       "      <td>0.465263</td>\n",
       "      <td>0.465263</td>\n",
       "      <td>0.465263</td>\n",
       "      <td>0.465263</td>\n",
       "      <td>0.465263</td>\n",
       "      <td>0.465263</td>\n",
       "      <td>0.465263</td>\n",
       "      <td>0.465263</td>\n",
       "      <td>...</td>\n",
       "      <td>0.465263</td>\n",
       "      <td>0.465263</td>\n",
       "      <td>0.465263</td>\n",
       "      <td>0.465263</td>\n",
       "      <td>0.465263</td>\n",
       "      <td>0.465263</td>\n",
       "      <td>0.465263</td>\n",
       "      <td>0.465263</td>\n",
       "      <td>0.465263</td>\n",
       "      <td>0.465263</td>\n",
       "    </tr>\n",
       "    <tr>\n",
       "      <th>2</th>\n",
       "      <td>sub-003</td>\n",
       "      <td>Peak Frequency</td>\n",
       "      <td>0.336491</td>\n",
       "      <td>0.336491</td>\n",
       "      <td>0.336491</td>\n",
       "      <td>0.336491</td>\n",
       "      <td>0.336491</td>\n",
       "      <td>0.336491</td>\n",
       "      <td>0.336491</td>\n",
       "      <td>0.336491</td>\n",
       "      <td>...</td>\n",
       "      <td>0.336491</td>\n",
       "      <td>0.378961</td>\n",
       "      <td>0.378961</td>\n",
       "      <td>0.336491</td>\n",
       "      <td>0.336491</td>\n",
       "      <td>0.336491</td>\n",
       "      <td>0.336491</td>\n",
       "      <td>0.336491</td>\n",
       "      <td>0.336491</td>\n",
       "      <td>0.336491</td>\n",
       "    </tr>\n",
       "    <tr>\n",
       "      <th>3</th>\n",
       "      <td>sub-004</td>\n",
       "      <td>Peak Frequency</td>\n",
       "      <td>0.413539</td>\n",
       "      <td>0.495680</td>\n",
       "      <td>0.413539</td>\n",
       "      <td>0.495680</td>\n",
       "      <td>0.495680</td>\n",
       "      <td>0.495680</td>\n",
       "      <td>0.495680</td>\n",
       "      <td>0.413539</td>\n",
       "      <td>...</td>\n",
       "      <td>0.495680</td>\n",
       "      <td>0.376717</td>\n",
       "      <td>0.366804</td>\n",
       "      <td>0.379550</td>\n",
       "      <td>0.379550</td>\n",
       "      <td>0.495680</td>\n",
       "      <td>0.373885</td>\n",
       "      <td>0.495680</td>\n",
       "      <td>0.373885</td>\n",
       "      <td>0.379550</td>\n",
       "    </tr>\n",
       "    <tr>\n",
       "      <th>4</th>\n",
       "      <td>sub-005</td>\n",
       "      <td>Peak Frequency</td>\n",
       "      <td>0.419102</td>\n",
       "      <td>0.419102</td>\n",
       "      <td>0.419102</td>\n",
       "      <td>0.419102</td>\n",
       "      <td>0.395473</td>\n",
       "      <td>0.419102</td>\n",
       "      <td>0.419102</td>\n",
       "      <td>0.400448</td>\n",
       "      <td>...</td>\n",
       "      <td>0.419102</td>\n",
       "      <td>0.323343</td>\n",
       "      <td>0.419102</td>\n",
       "      <td>0.419102</td>\n",
       "      <td>0.419102</td>\n",
       "      <td>0.419102</td>\n",
       "      <td>0.320856</td>\n",
       "      <td>0.419102</td>\n",
       "      <td>0.419102</td>\n",
       "      <td>0.419102</td>\n",
       "    </tr>\n",
       "  </tbody>\n",
       "</table>\n",
       "<p>5 rows × 21 columns</p>\n",
       "</div>"
      ],
      "text/plain": [
       "Channel  subj_id            Type        C3        C4        Cz        F3  \\\n",
       "0        sub-001  Peak Frequency  0.406802  0.406802  0.406802  0.406802   \n",
       "1        sub-002  Peak Frequency  0.465263  0.465263  0.465263  0.465263   \n",
       "2        sub-003  Peak Frequency  0.336491  0.336491  0.336491  0.336491   \n",
       "3        sub-004  Peak Frequency  0.413539  0.495680  0.413539  0.495680   \n",
       "4        sub-005  Peak Frequency  0.419102  0.419102  0.419102  0.419102   \n",
       "\n",
       "Channel        F4        F7        F8       Fp1  ...        Fz        O1  \\\n",
       "0        0.406802  0.406802  0.406802  0.360120  ...  0.406802  0.406802   \n",
       "1        0.465263  0.465263  0.465263  0.465263  ...  0.465263  0.465263   \n",
       "2        0.336491  0.336491  0.336491  0.336491  ...  0.336491  0.378961   \n",
       "3        0.495680  0.495680  0.495680  0.413539  ...  0.495680  0.376717   \n",
       "4        0.395473  0.419102  0.419102  0.400448  ...  0.419102  0.323343   \n",
       "\n",
       "Channel        O2        P3        P4        Pz        T3        T4        T5  \\\n",
       "0        0.351784  0.406802  0.351784  0.406802  0.406802  0.406802  0.351784   \n",
       "1        0.465263  0.465263  0.465263  0.465263  0.465263  0.465263  0.465263   \n",
       "2        0.378961  0.336491  0.336491  0.336491  0.336491  0.336491  0.336491   \n",
       "3        0.366804  0.379550  0.379550  0.495680  0.373885  0.495680  0.373885   \n",
       "4        0.419102  0.419102  0.419102  0.419102  0.320856  0.419102  0.419102   \n",
       "\n",
       "Channel        T6  \n",
       "0        0.406802  \n",
       "1        0.465263  \n",
       "2        0.336491  \n",
       "3        0.379550  \n",
       "4        0.419102  \n",
       "\n",
       "[5 rows x 21 columns]"
      ]
     },
     "execution_count": 13,
     "metadata": {},
     "output_type": "execute_result"
    }
   ],
   "source": [
    "df_peak.head()"
   ]
  },
  {
   "cell_type": "markdown",
   "id": "b9375b71",
   "metadata": {},
   "source": [
    "Add demographics information to all Dataframes as it contains the diagnostic information."
   ]
  },
  {
   "cell_type": "code",
   "execution_count": 4,
   "id": "c1e23b23",
   "metadata": {},
   "outputs": [
    {
     "data": {
      "text/html": [
       "<div>\n",
       "<style scoped>\n",
       "    .dataframe tbody tr th:only-of-type {\n",
       "        vertical-align: middle;\n",
       "    }\n",
       "\n",
       "    .dataframe tbody tr th {\n",
       "        vertical-align: top;\n",
       "    }\n",
       "\n",
       "    .dataframe thead th {\n",
       "        text-align: right;\n",
       "    }\n",
       "</style>\n",
       "<table border=\"1\" class=\"dataframe\">\n",
       "  <thead>\n",
       "    <tr style=\"text-align: right;\">\n",
       "      <th></th>\n",
       "      <th>Type</th>\n",
       "      <th>C3</th>\n",
       "      <th>C4</th>\n",
       "      <th>Cz</th>\n",
       "      <th>F3</th>\n",
       "      <th>F4</th>\n",
       "      <th>F7</th>\n",
       "      <th>F8</th>\n",
       "      <th>Fp1</th>\n",
       "      <th>Fp2</th>\n",
       "      <th>...</th>\n",
       "      <th>P4</th>\n",
       "      <th>Pz</th>\n",
       "      <th>T3</th>\n",
       "      <th>T4</th>\n",
       "      <th>T5</th>\n",
       "      <th>T6</th>\n",
       "      <th>Gender</th>\n",
       "      <th>Age</th>\n",
       "      <th>Group</th>\n",
       "      <th>MMSE</th>\n",
       "    </tr>\n",
       "    <tr>\n",
       "      <th>subj_id</th>\n",
       "      <th></th>\n",
       "      <th></th>\n",
       "      <th></th>\n",
       "      <th></th>\n",
       "      <th></th>\n",
       "      <th></th>\n",
       "      <th></th>\n",
       "      <th></th>\n",
       "      <th></th>\n",
       "      <th></th>\n",
       "      <th></th>\n",
       "      <th></th>\n",
       "      <th></th>\n",
       "      <th></th>\n",
       "      <th></th>\n",
       "      <th></th>\n",
       "      <th></th>\n",
       "      <th></th>\n",
       "      <th></th>\n",
       "      <th></th>\n",
       "      <th></th>\n",
       "    </tr>\n",
       "  </thead>\n",
       "  <tbody>\n",
       "    <tr>\n",
       "      <th>sub-001</th>\n",
       "      <td>Peak Frequency</td>\n",
       "      <td>0.406802</td>\n",
       "      <td>0.406802</td>\n",
       "      <td>0.406802</td>\n",
       "      <td>0.406802</td>\n",
       "      <td>0.406802</td>\n",
       "      <td>0.406802</td>\n",
       "      <td>0.406802</td>\n",
       "      <td>0.360120</td>\n",
       "      <td>0.406802</td>\n",
       "      <td>...</td>\n",
       "      <td>0.351784</td>\n",
       "      <td>0.406802</td>\n",
       "      <td>0.406802</td>\n",
       "      <td>0.406802</td>\n",
       "      <td>0.351784</td>\n",
       "      <td>0.406802</td>\n",
       "      <td>F</td>\n",
       "      <td>57</td>\n",
       "      <td>A</td>\n",
       "      <td>16</td>\n",
       "    </tr>\n",
       "    <tr>\n",
       "      <th>sub-002</th>\n",
       "      <td>Peak Frequency</td>\n",
       "      <td>0.465263</td>\n",
       "      <td>0.465263</td>\n",
       "      <td>0.465263</td>\n",
       "      <td>0.465263</td>\n",
       "      <td>0.465263</td>\n",
       "      <td>0.465263</td>\n",
       "      <td>0.465263</td>\n",
       "      <td>0.465263</td>\n",
       "      <td>0.465263</td>\n",
       "      <td>...</td>\n",
       "      <td>0.465263</td>\n",
       "      <td>0.465263</td>\n",
       "      <td>0.465263</td>\n",
       "      <td>0.465263</td>\n",
       "      <td>0.465263</td>\n",
       "      <td>0.465263</td>\n",
       "      <td>F</td>\n",
       "      <td>78</td>\n",
       "      <td>A</td>\n",
       "      <td>22</td>\n",
       "    </tr>\n",
       "    <tr>\n",
       "      <th>sub-003</th>\n",
       "      <td>Peak Frequency</td>\n",
       "      <td>0.336491</td>\n",
       "      <td>0.336491</td>\n",
       "      <td>0.336491</td>\n",
       "      <td>0.336491</td>\n",
       "      <td>0.336491</td>\n",
       "      <td>0.336491</td>\n",
       "      <td>0.336491</td>\n",
       "      <td>0.336491</td>\n",
       "      <td>0.336491</td>\n",
       "      <td>...</td>\n",
       "      <td>0.336491</td>\n",
       "      <td>0.336491</td>\n",
       "      <td>0.336491</td>\n",
       "      <td>0.336491</td>\n",
       "      <td>0.336491</td>\n",
       "      <td>0.336491</td>\n",
       "      <td>M</td>\n",
       "      <td>70</td>\n",
       "      <td>A</td>\n",
       "      <td>14</td>\n",
       "    </tr>\n",
       "    <tr>\n",
       "      <th>sub-004</th>\n",
       "      <td>Peak Frequency</td>\n",
       "      <td>0.413539</td>\n",
       "      <td>0.495680</td>\n",
       "      <td>0.413539</td>\n",
       "      <td>0.495680</td>\n",
       "      <td>0.495680</td>\n",
       "      <td>0.495680</td>\n",
       "      <td>0.495680</td>\n",
       "      <td>0.413539</td>\n",
       "      <td>0.495680</td>\n",
       "      <td>...</td>\n",
       "      <td>0.379550</td>\n",
       "      <td>0.495680</td>\n",
       "      <td>0.373885</td>\n",
       "      <td>0.495680</td>\n",
       "      <td>0.373885</td>\n",
       "      <td>0.379550</td>\n",
       "      <td>F</td>\n",
       "      <td>67</td>\n",
       "      <td>A</td>\n",
       "      <td>20</td>\n",
       "    </tr>\n",
       "    <tr>\n",
       "      <th>sub-005</th>\n",
       "      <td>Peak Frequency</td>\n",
       "      <td>0.419102</td>\n",
       "      <td>0.419102</td>\n",
       "      <td>0.419102</td>\n",
       "      <td>0.419102</td>\n",
       "      <td>0.395473</td>\n",
       "      <td>0.419102</td>\n",
       "      <td>0.419102</td>\n",
       "      <td>0.400448</td>\n",
       "      <td>0.419102</td>\n",
       "      <td>...</td>\n",
       "      <td>0.419102</td>\n",
       "      <td>0.419102</td>\n",
       "      <td>0.320856</td>\n",
       "      <td>0.419102</td>\n",
       "      <td>0.419102</td>\n",
       "      <td>0.419102</td>\n",
       "      <td>M</td>\n",
       "      <td>70</td>\n",
       "      <td>A</td>\n",
       "      <td>22</td>\n",
       "    </tr>\n",
       "  </tbody>\n",
       "</table>\n",
       "<p>5 rows × 24 columns</p>\n",
       "</div>"
      ],
      "text/plain": [
       "                   Type        C3        C4        Cz        F3        F4  \\\n",
       "subj_id                                                                     \n",
       "sub-001  Peak Frequency  0.406802  0.406802  0.406802  0.406802  0.406802   \n",
       "sub-002  Peak Frequency  0.465263  0.465263  0.465263  0.465263  0.465263   \n",
       "sub-003  Peak Frequency  0.336491  0.336491  0.336491  0.336491  0.336491   \n",
       "sub-004  Peak Frequency  0.413539  0.495680  0.413539  0.495680  0.495680   \n",
       "sub-005  Peak Frequency  0.419102  0.419102  0.419102  0.419102  0.395473   \n",
       "\n",
       "               F7        F8       Fp1       Fp2  ...        P4        Pz  \\\n",
       "subj_id                                          ...                       \n",
       "sub-001  0.406802  0.406802  0.360120  0.406802  ...  0.351784  0.406802   \n",
       "sub-002  0.465263  0.465263  0.465263  0.465263  ...  0.465263  0.465263   \n",
       "sub-003  0.336491  0.336491  0.336491  0.336491  ...  0.336491  0.336491   \n",
       "sub-004  0.495680  0.495680  0.413539  0.495680  ...  0.379550  0.495680   \n",
       "sub-005  0.419102  0.419102  0.400448  0.419102  ...  0.419102  0.419102   \n",
       "\n",
       "               T3        T4        T5        T6  Gender  Age  Group  MMSE  \n",
       "subj_id                                                                    \n",
       "sub-001  0.406802  0.406802  0.351784  0.406802       F   57      A    16  \n",
       "sub-002  0.465263  0.465263  0.465263  0.465263       F   78      A    22  \n",
       "sub-003  0.336491  0.336491  0.336491  0.336491       M   70      A    14  \n",
       "sub-004  0.373885  0.495680  0.373885  0.379550       F   67      A    20  \n",
       "sub-005  0.320856  0.419102  0.419102  0.419102       M   70      A    22  \n",
       "\n",
       "[5 rows x 24 columns]"
      ]
     },
     "execution_count": 4,
     "metadata": {},
     "output_type": "execute_result"
    }
   ],
   "source": [
    "dx = pd.read_csv('/Users/psachdeva/Downloads/Capstone/participants.tsv', sep='\\t')\n",
    "df_peak_full = pd.merge(df_peak, dx, left_on='subj_id', right_on='participant_id', how = 'left')\n",
    "df_peak_full.drop('participant_id', axis=1, inplace=True)\n",
    "df_peak_full = df_peak_full.set_index('subj_id')\n",
    "\n",
    "df_mean_full = pd.merge(df_mean, dx, left_on='subj_id', right_on='participant_id', how = 'left')\n",
    "df_mean_full.drop('participant_id', axis=1, inplace=True)\n",
    "df_mean_full = df_mean_full.set_index('subj_id')\n",
    "df_mean_full.head()\n",
    "\n",
    "df_gp_full = pd.merge(df_gp, dx, left_on='subj_id', right_on='participant_id', how = 'left')\n",
    "df_gp_full.drop('participant_id', axis=1, inplace=True)\n",
    "df_gp_full = df_gp_full.set_index('subj_id')\n",
    "\n",
    "df_peak_full.head()"
   ]
  },
  {
   "cell_type": "markdown",
   "id": "09b8a28c",
   "metadata": {},
   "source": [
    "Drop the Gender column."
   ]
  },
  {
   "cell_type": "code",
   "execution_count": 5,
   "id": "625cb1f9",
   "metadata": {},
   "outputs": [
    {
     "data": {
      "text/plain": [
       "Index(['Type', 'C3', 'C4', 'Cz', 'F3', 'F4', 'F7', 'F8', 'Fp1', 'Fp2', 'Fz',\n",
       "       'O1', 'O2', 'P3', 'P4', 'Pz', 'T3', 'T4', 'T5', 'T6', 'Age', 'Group',\n",
       "       'MMSE'],\n",
       "      dtype='object')"
      ]
     },
     "execution_count": 5,
     "metadata": {},
     "output_type": "execute_result"
    }
   ],
   "source": [
    "df_peak_full.drop(columns = 'Gender', inplace = True, axis = 1)\n",
    "df_mean_full.drop(columns = 'Gender', inplace = True, axis = 1)\n",
    "df_gp_full.drop(columns = 'Gender', inplace = True, axis = 1)\n",
    "\n",
    "\n",
    "df_peak_full.columns"
   ]
  },
  {
   "cell_type": "markdown",
   "id": "c50afe40",
   "metadata": {},
   "source": [
    "### Feature Engineering"
   ]
  },
  {
   "cell_type": "markdown",
   "id": "f41b61ec",
   "metadata": {},
   "source": [
    "Examining data to make sure there are no missing values."
   ]
  },
  {
   "cell_type": "code",
   "execution_count": 6,
   "id": "74ecb094",
   "metadata": {},
   "outputs": [
    {
     "data": {
      "text/plain": [
       "Type     0\n",
       "C3       0\n",
       "C4       0\n",
       "Cz       0\n",
       "F3       0\n",
       "F4       0\n",
       "F7       0\n",
       "F8       0\n",
       "Fp1      0\n",
       "Fp2      0\n",
       "Fz       0\n",
       "O1       0\n",
       "O2       0\n",
       "P3       0\n",
       "P4       0\n",
       "Pz       0\n",
       "T3       0\n",
       "T4       0\n",
       "T5       0\n",
       "T6       0\n",
       "Age      0\n",
       "Group    0\n",
       "MMSE     0\n",
       "dtype: int64"
      ]
     },
     "execution_count": 6,
     "metadata": {},
     "output_type": "execute_result"
    }
   ],
   "source": [
    "df_peak_full.isnull().sum()"
   ]
  },
  {
   "cell_type": "code",
   "execution_count": 7,
   "id": "8d6137a9",
   "metadata": {},
   "outputs": [
    {
     "data": {
      "text/plain": [
       "Type     0\n",
       "C3       0\n",
       "C4       0\n",
       "Cz       0\n",
       "F3       0\n",
       "F4       0\n",
       "F7       0\n",
       "F8       0\n",
       "Fp1      0\n",
       "Fp2      0\n",
       "Fz       0\n",
       "O1       0\n",
       "O2       0\n",
       "P3       0\n",
       "P4       0\n",
       "Pz       0\n",
       "T3       0\n",
       "T4       0\n",
       "T5       0\n",
       "T6       0\n",
       "Age      0\n",
       "Group    0\n",
       "MMSE     0\n",
       "dtype: int64"
      ]
     },
     "execution_count": 7,
     "metadata": {},
     "output_type": "execute_result"
    }
   ],
   "source": [
    "df_mean_full.isnull().sum()"
   ]
  },
  {
   "cell_type": "code",
   "execution_count": 8,
   "id": "4eb93a3c",
   "metadata": {},
   "outputs": [
    {
     "data": {
      "text/plain": [
       "Type     0\n",
       "C3       0\n",
       "C4       0\n",
       "Cz       0\n",
       "F3       0\n",
       "F4       0\n",
       "F7       0\n",
       "F8       0\n",
       "Fp1      0\n",
       "Fp2      0\n",
       "Fz       0\n",
       "O1       0\n",
       "O2       0\n",
       "P3       0\n",
       "P4       0\n",
       "Pz       0\n",
       "T3       0\n",
       "T4       0\n",
       "T5       0\n",
       "T6       0\n",
       "Age      0\n",
       "Group    0\n",
       "MMSE     0\n",
       "dtype: int64"
      ]
     },
     "execution_count": 8,
     "metadata": {},
     "output_type": "execute_result"
    }
   ],
   "source": [
    "df_gp_full.isnull().sum()"
   ]
  },
  {
   "cell_type": "markdown",
   "id": "dbb6c9f7",
   "metadata": {},
   "source": [
    "### Examine balance of classes in target variable."
   ]
  },
  {
   "cell_type": "markdown",
   "id": "be4372de",
   "metadata": {},
   "source": [
    "Convert target variable to numeric values where 0 represents healthy individuals and 1 represents individuals with dementia."
   ]
  },
  {
   "cell_type": "code",
   "execution_count": 9,
   "id": "a8a45801",
   "metadata": {},
   "outputs": [],
   "source": [
    "# Now convert y to numerical\n",
    "\n",
    "df_peak_full['dx_num'] = df_peak_full['Group'].map({\n",
    "    'C': 0,\n",
    "    'F': 1, \n",
    "    'A': 1\n",
    "})\n",
    "\n",
    "df_mean_full['dx_num'] = df_mean_full['Group'].map({\n",
    "    'C': 0,\n",
    "    'F': 1, \n",
    "    'A': 1\n",
    "})\n",
    "\n",
    "df_gp_full['dx_num'] = df_gp_full['Group'].map({\n",
    "    'C': 0,\n",
    "    'F': 1, \n",
    "    'A': 1\n",
    "})"
   ]
  },
  {
   "cell_type": "code",
   "execution_count": 10,
   "id": "31bfaa03",
   "metadata": {},
   "outputs": [
    {
     "data": {
      "text/plain": [
       "1    59\n",
       "0    29\n",
       "Name: dx_num, dtype: int64"
      ]
     },
     "execution_count": 10,
     "metadata": {},
     "output_type": "execute_result"
    }
   ],
   "source": [
    "df_peak_full.dx_num.value_counts()"
   ]
  },
  {
   "cell_type": "code",
   "execution_count": 11,
   "id": "bd98898a",
   "metadata": {},
   "outputs": [
    {
     "data": {
      "image/png": "[encoded data removed]",
      "text/plain": [
       "<Figure size 640x480 with 1 Axes>"
      ]
     },
     "metadata": {},
     "output_type": "display_data"
    }
   ],
   "source": [
    "import matplotlib.pyplot as plt\n",
    "\n",
    "# Create a bar plot of y\n",
    "plt.bar(df_peak_full.dx_num.unique(), df_peak_full.dx_num.value_counts(), color=['red', 'blue'])\n",
    "\n",
    "\n",
    "label_names = ['Dementia', 'Healthy']\n",
    "plt.xticks(df_peak_full.dx_num.unique(), label_names, rotation = 45)\n",
    "\n",
    "# Add labels and title to the plot\n",
    "plt.xlabel('Diagnosis')\n",
    "plt.ylabel('Frequency')\n",
    "plt.title('Bar Graph of Target Variable')\n",
    "\n",
    "# Show the plot\n",
    "plt.show()"
   ]
  },
  {
   "cell_type": "markdown",
   "id": "260cb923",
   "metadata": {},
   "source": [
    "The bar graph clearly illustrates that the number of subjects diagnosed with dementia is higher than the number of healthy controls. This observation indicates an imbalance in the dataset, with a larger representation of the clinical group.\n",
    "\n",
    "To address this class imbalance, one approach is to oversample the minority class (healthy controls) to create a more balanced training set. However, in the context of diagnosis, having a larger number of samples in the clinical group can be beneficial as it allows the model to learn and capture the patterns and characteristics specific to the disease.\n",
    "\n",
    "In this project, we will examine if oversampling the healthy controls improves the performance of the predictive models. Nonetheless, we will also consider that having a higher number of samples in the clinical group is acceptable and may contribute to better diagnostic accuracy."
   ]
  },
  {
   "cell_type": "code",
   "execution_count": 12,
   "id": "cc99f124",
   "metadata": {},
   "outputs": [
    {
     "name": "stdout",
     "output_type": "stream",
     "text": [
      "<class 'pandas.core.frame.DataFrame'>\n",
      "Index: 88 entries, sub-001 to sub-088\n",
      "Data columns (total 24 columns):\n",
      " #   Column  Non-Null Count  Dtype  \n",
      "---  ------  --------------  -----  \n",
      " 0   Type    88 non-null     object \n",
      " 1   C3      88 non-null     float64\n",
      " 2   C4      88 non-null     float64\n",
      " 3   Cz      88 non-null     float64\n",
      " 4   F3      88 non-null     float64\n",
      " 5   F4      88 non-null     float64\n",
      " 6   F7      88 non-null     float64\n",
      " 7   F8      88 non-null     float64\n",
      " 8   Fp1     88 non-null     float64\n",
      " 9   Fp2     88 non-null     float64\n",
      " 10  Fz      88 non-null     float64\n",
      " 11  O1      88 non-null     float64\n",
      " 12  O2      88 non-null     float64\n",
      " 13  P3      88 non-null     float64\n",
      " 14  P4      88 non-null     float64\n",
      " 15  Pz      88 non-null     float64\n",
      " 16  T3      88 non-null     float64\n",
      " 17  T4      88 non-null     float64\n",
      " 18  T5      88 non-null     float64\n",
      " 19  T6      88 non-null     float64\n",
      " 20  Age     88 non-null     int64  \n",
      " 21  Group   88 non-null     object \n",
      " 22  MMSE    88 non-null     int64  \n",
      " 23  dx_num  88 non-null     int64  \n",
      "dtypes: float64(19), int64(3), object(2)\n",
      "memory usage: 17.2+ KB\n"
     ]
    }
   ],
   "source": [
    "df_peak_full.info()"
   ]
  },
  {
   "cell_type": "markdown",
   "id": "b9418c3c",
   "metadata": {},
   "source": [
    "### Train Test Split"
   ]
  },
  {
   "cell_type": "markdown",
   "id": "fa930bb0",
   "metadata": {},
   "source": [
    "This separates the input features (X) and the target variable (y) into training and testing sets using the train_test_split function from scikit-learn. The split is stratified, preserving the class distribution of the target variable, and the test set size is set to 20% of the data. The resulting sets (X_train, X_test, y_train, y_test) can be used for training and evaluating machine learning models."
   ]
  },
  {
   "cell_type": "code",
   "execution_count": 13,
   "id": "44b5664d",
   "metadata": {},
   "outputs": [],
   "source": [
    "\n",
    "X_peak = df_peak_full.reset_index().drop(columns = ['dx_num', 'Group', 'subj_id', 'Age', 'Type'], axis=1)\n",
    "y_peak = df_peak_full['dx_num']\n",
    "\n",
    "X_mean = df_mean_full.reset_index().drop(columns = ['dx_num', 'Group', 'subj_id', 'Age', 'Type', 'MMSE'], axis=1)\n",
    "y_mean = df_mean_full['dx_num']\n",
    "\n",
    "X_gp = df_gp_full.reset_index().drop(columns = ['dx_num', 'Group', 'subj_id', 'Age', 'Type', 'MMSE'], axis=1)\n",
    "y_gp = df_gp_full['dx_num']\n"
   ]
  },
  {
   "cell_type": "code",
   "execution_count": 14,
   "id": "3f8e12c5",
   "metadata": {},
   "outputs": [],
   "source": [
    "\n",
    "X_train_peak, X_test_peak, y_train_peak, y_test_peak = train_test_split(X_peak, y_peak, test_size = 0.2, random_state = 32, stratify = y_peak)\n",
    "X_train_mean, X_test_mean, y_train_mean, y_test_mean = train_test_split(X_mean, y_mean, test_size = 0.2, random_state = 32, stratify = y_mean)\n",
    "X_train_gp, X_test_gp, y_train_gp, y_test_gp = train_test_split(X_gp, y_gp, test_size = 0.2, random_state = 32, stratify = y_gp)\n"
   ]
  },
  {
   "cell_type": "markdown",
   "id": "49c1ce97",
   "metadata": {},
   "source": [
    "### Oversampling for Balanced Classes using SMOTE."
   ]
  },
  {
   "cell_type": "markdown",
   "id": "065a2c03",
   "metadata": {},
   "source": [
    "Now I use SMOTE to ensure a more balanced representation of the classes in the training data, which can lead to improved performance of machine learning models, especially when dealing with imbalanced datasets."
   ]
  },
  {
   "cell_type": "code",
   "execution_count": 15,
   "id": "640714ab",
   "metadata": {},
   "outputs": [
    {
     "name": "stdout",
     "output_type": "stream",
     "text": [
      "(94, 20) (70, 20)\n"
     ]
    }
   ],
   "source": [
    "\n",
    "# initialize SMOTE\n",
    "sm = SMOTE(random_state=42)\n",
    "X_train_peak_resampled, y_train_peak_resampled = sm.fit_resample(X_train_peak, y_train_peak)\n",
    "X_train_mean_resampled, y_train_mean_resampled = sm.fit_resample(X_train_mean, y_train_mean)\n",
    "X_train_gp_resampled, y_train_gp_resampled = sm.fit_resample(X_train_gp, y_train_gp)\n",
    "\n",
    "print(X_train_peak_resampled.shape, X_train_peak.shape)\n"
   ]
  },
  {
   "cell_type": "code",
   "execution_count": 16,
   "id": "42ee894c",
   "metadata": {},
   "outputs": [
    {
     "data": {
      "text/plain": [
       "Index(['C3', 'C4', 'Cz', 'F3', 'F4', 'F7', 'F8', 'Fp1', 'Fp2', 'Fz', 'O1',\n",
       "       'O2', 'P3', 'P4', 'Pz', 'T3', 'T4', 'T5', 'T6', 'MMSE'],\n",
       "      dtype='object')"
      ]
     },
     "execution_count": 16,
     "metadata": {},
     "output_type": "execute_result"
    }
   ],
   "source": [
    "X_train_peak_resampled.columns"
   ]
  },
  {
   "cell_type": "code",
   "execution_count": 17,
   "id": "e926b807",
   "metadata": {},
   "outputs": [
    {
     "data": {
      "text/plain": [
       "1    47\n",
       "0    47\n",
       "Name: dx_num, dtype: int64"
      ]
     },
     "execution_count": 17,
     "metadata": {},
     "output_type": "execute_result"
    }
   ],
   "source": [
    "y_train_peak_resampled.value_counts()"
   ]
  },
  {
   "cell_type": "markdown",
   "id": "633ced28",
   "metadata": {},
   "source": [
    "## Research Question"
   ]
  },
  {
   "cell_type": "markdown",
   "id": "fac85dcb",
   "metadata": {},
   "source": [
    "To what extent can the comprehensive analysis of peak frequency, mean frequency, and Global Power extracted from EEG data provide reliable and discriminative biomarkers for the precise and early detection of dementia (specifically Alzheimers and Frontotemporal Dementia)?\n"
   ]
  },
  {
   "cell_type": "markdown",
   "id": "4d1be7d6",
   "metadata": {},
   "source": [
    "## Principal Component Analysis (PCA)"
   ]
  },
  {
   "cell_type": "markdown",
   "id": "82777895",
   "metadata": {},
   "source": [
    "\n",
    "PCA is commonly used to reduce the number of EEG ICA components in order to address the problem of high-dimensional data. By applying PCA, the goal is to capture the most important features or patterns in the EEG data while reducing the dimensionality. "
   ]
  },
  {
   "cell_type": "markdown",
   "id": "acbc87eb",
   "metadata": {},
   "source": [
    "#### Scree plot to choose best number of components for PCA."
   ]
  },
  {
   "cell_type": "markdown",
   "id": "ba8ba1ae",
   "metadata": {},
   "source": [
    "This code performs PCA on the scaled training data and generates a scree plot. The scree plot allows visual assessment of the explained variance ratio by each principal component, helping to determine the optimal number of components to retain for dimensionality reduction."
   ]
  },
  {
   "cell_type": "code",
   "execution_count": 18,
   "id": "bbd53665",
   "metadata": {},
   "outputs": [
    {
     "data": {
      "image/png": "[encoded data removed]",
      "text/plain": [
       "<Figure size 1500x500 with 3 Axes>"
      ]
     },
     "metadata": {},
     "output_type": "display_data"
    }
   ],
   "source": [
    "\n",
    "X_train_peak_resampled = X_train_peak\n",
    "X_train_mean_resampled = X_train_mean\n",
    "X_train_gp_resampled = X_train_gp\n",
    "\n",
    "# Create a StandardScaler object\n",
    "scaler = StandardScaler()\n",
    "\n",
    "# Scale the training data for each dataset\n",
    "X_train_peak_scaled = scaler.fit_transform(X_train_peak_resampled)\n",
    "X_train_mean_scaled = scaler.fit_transform(X_train_mean_resampled)\n",
    "X_train_gp_scaled = scaler.fit_transform(X_train_gp_resampled)\n",
    "\n",
    "# Create a PCA object for each dataset\n",
    "pca_peak = PCA()\n",
    "pca_mean = PCA()\n",
    "pca_gp = PCA()\n",
    "\n",
    "# Fit the PCA models to the scaled data for each dataset\n",
    "pca_peak.fit(X_train_peak_scaled)\n",
    "pca_mean.fit(X_train_mean_scaled)\n",
    "pca_gp.fit(X_train_gp_scaled)\n",
    "\n",
    "# Set up the subplots\n",
    "fig, axs = plt.subplots(1, 3, figsize=(15, 5))\n",
    "\n",
    "# Plot the scree plots for each dataset\n",
    "axs[0].plot(np.cumsum(pca_peak.explained_variance_ratio_))\n",
    "axs[0].set_xlabel('Number of components')\n",
    "axs[0].set_ylabel('Cumulative explained variance')\n",
    "axs[0].set_title('Scree Plot - Peak Frequency')\n",
    "axs[0].set_xticks(np.arange(1, len(pca_peak.explained_variance_ratio_) + 1, 1))\n",
    "\n",
    "axs[1].plot(np.cumsum(pca_mean.explained_variance_ratio_))\n",
    "axs[1].set_xlabel('Number of components')\n",
    "axs[1].set_ylabel('Cumulative explained variance')\n",
    "axs[1].set_title('Scree Plot - Mean Frequency')\n",
    "axs[1].set_xticks(np.arange(1, len(pca_mean.explained_variance_ratio_) + 1, 1))\n",
    "\n",
    "axs[2].plot(np.cumsum(pca_gp.explained_variance_ratio_))\n",
    "axs[2].set_xlabel('Number of components')\n",
    "axs[2].set_ylabel('Cumulative explained variance')\n",
    "axs[2].set_title('Scree Plot - Global Power')\n",
    "axs[2].set_xticks(np.arange(1, len(pca_gp.explained_variance_ratio_) + 1, 1))\n",
    "\n",
    "# Draw dotted lines from each point to the x-axis\n",
    "for ax in axs:\n",
    "    for line in ax.lines:\n",
    "        x = line.get_xdata()\n",
    "        y = line.get_ydata()\n",
    "        for xi, yi in zip(x, y):\n",
    "            ax.plot([xi, xi], [yi, 0], color='gray', linestyle='dotted')\n",
    "\n",
    "# Adjust spacing between subplots\n",
    "plt.tight_layout()\n",
    "\n",
    "\n",
    "# Display the plot\n",
    "plt.show()"
   ]
  },
  {
   "cell_type": "markdown",
   "id": "4402f08c",
   "metadata": {},
   "source": [
    "Using 90% as the threshold for amount of variance explained: \n",
    "1. Peak frequency: 9 components\n",
    "2. Mean frequency: 4 components\n",
    "3. Global Power: 2 components"
   ]
  },
  {
   "cell_type": "markdown",
   "id": "cafae4a0",
   "metadata": {},
   "source": [
    "#### Visualizing PCA just for Global Power data"
   ]
  },
  {
   "cell_type": "code",
   "execution_count": 19,
   "id": "48ab3728",
   "metadata": {},
   "outputs": [
    {
     "data": {
      "image/png": "[encoded data removed]",
      "text/plain": [
       "<Figure size 640x480 with 1 Axes>"
      ]
     },
     "metadata": {},
     "output_type": "display_data"
    }
   ],
   "source": [
    "\n",
    "# Apply PCA to reduce the dimensionality of the data\n",
    "pca = PCA(n_components=2)\n",
    "X_train_gp_reduced = pca.fit_transform(X_train_gp_scaled)\n",
    "\n",
    "# Plot the reduced data\n",
    "plt.scatter(X_train_gp_reduced[:, 0], X_train_gp_reduced[:, 1], c=y_train_gp)\n",
    "plt.xlabel('Component 1')\n",
    "plt.ylabel('Component 2')\n",
    "plt.title('PCA - 2 Components')\n",
    "plt.show()\n"
   ]
  },
  {
   "cell_type": "markdown",
   "id": "46a746d2",
   "metadata": {},
   "source": [
    "Although not very clear from the graph, the scree plot indicates 2 components to be enough to explain more than 90% variance."
   ]
  },
  {
   "cell_type": "markdown",
   "id": "58fdcd27",
   "metadata": {},
   "source": [
    "### Running PCA for all 3 datasets"
   ]
  },
  {
   "cell_type": "code",
   "execution_count": 20,
   "id": "0f41d8d3",
   "metadata": {},
   "outputs": [],
   "source": [
    "# Apply PCA to reduce the dimensionality of the data\n",
    "scaler = StandardScaler()\n",
    "\n",
    "# Scale the training data for each dataset\n",
    "X_train_peak_scaled = scaler.fit_transform(X_train_peak_resampled)\n",
    "X_train_mean_scaled = scaler.fit_transform(X_train_mean_resampled)\n",
    "X_train_gp_scaled = scaler.fit_transform(X_train_gp_resampled)\n",
    "\n",
    "# Train data\n",
    "\n",
    "pca = PCA(n_components=9)\n",
    "X_train_peak_reduced = pca.fit_transform(X_train_peak_scaled)\n",
    "\n",
    "pca = PCA(n_components=5)\n",
    "X_train_mean_reduced = pca.fit_transform(X_train_mean_scaled)\n",
    "\n",
    "pca = PCA(n_components=2)\n",
    "X_train_gp_reduced = pca.fit_transform(X_train_gp_scaled)\n",
    "\n",
    "# Test data\n",
    "\n",
    "# Scale the training data for each dataset\n",
    "X_test_peak_scaled = scaler.fit_transform(X_test_peak)\n",
    "X_test_mean_scaled = scaler.fit_transform(X_test_mean)\n",
    "X_test_gp_scaled = scaler.fit_transform(X_test_gp)\n",
    "\n",
    "pca = PCA(n_components=9)\n",
    "X_test_peak_reduced = pca.fit_transform(X_test_peak_scaled)\n",
    "\n",
    "pca = PCA(n_components=5)\n",
    "X_test_mean_reduced = pca.fit_transform(X_test_mean_scaled)\n",
    "\n",
    "pca = PCA(n_components=2)\n",
    "X_test_gp_reduced = pca.fit_transform(X_test_gp_scaled)"
   ]
  },
  {
   "cell_type": "code",
   "execution_count": 21,
   "id": "51018f0d",
   "metadata": {},
   "outputs": [],
   "source": [
    "# Converting components to DF\n",
    "\n",
    "X_train_peak_reduced = pd.DataFrame(data=X_train_peak_reduced, columns=['Component 1', 'Component 2', 'Component 3', 'Component 4', 'Component 5', 'Component 6', 'Component 7', 'Component 8', 'Component 9'])\n",
    "X_train_mean_reduced = pd.DataFrame(data=X_train_mean_reduced, columns=['Component 1', 'Component 2', 'Component 3', 'Component 4', 'Component 5'])\n",
    "X_train_gp_reduced = pd.DataFrame(data=X_train_gp_reduced, columns=['Component 1', 'Component 2'])\n"
   ]
  },
  {
   "cell_type": "markdown",
   "id": "2c18bfa3",
   "metadata": {},
   "source": [
    "## Performance Metric"
   ]
  },
  {
   "cell_type": "markdown",
   "id": "f448f8dd",
   "metadata": {},
   "source": [
    "I selected accuracy as the primary performance metric for diagnosing dementia in EEG data because it provides a comprehensive measure of the model's overall correctness in predicting the disease status. Accuracy considers both true positives and true negatives and offers a straightforward evaluation of the model's effectiveness. However, recognizing the importance of other evaluation aspects, I will also investigate precision and recall for each model. Precision will help assess the model's ability to minimize false positives, while recall will provide insights into its capability to capture true positives. By examining multiple metrics, I aim to gain a more comprehensive understanding of each model's diagnostic performance."
   ]
  },
  {
   "cell_type": "markdown",
   "id": "c8d3e1ca",
   "metadata": {},
   "source": [
    "# Classical ML Classification Models"
   ]
  },
  {
   "cell_type": "markdown",
   "id": "6c0b02a8",
   "metadata": {},
   "source": [
    "### Decision Tree"
   ]
  },
  {
   "cell_type": "markdown",
   "id": "b5950ee9",
   "metadata": {},
   "source": [
    "\n",
    "Initially, I explored the data after balancing the classes using SMOTE (Synthetic Minority Over-sampling Technique). However, I observed a significant improvement in accuracy when using the original unbalanced data. As a result, I decided to proceed with the original data for training my models."
   ]
  },
  {
   "cell_type": "code",
   "execution_count": 23,
   "id": "4edd6844",
   "metadata": {},
   "outputs": [
    {
     "name": "stdout",
     "output_type": "stream",
     "text": [
      "Accuracy (Majority Vote) - Decision Tree: 0.8333333333333334\n",
      "Precision Score - Decision Tree: 0.8461538461538461\n",
      "Recall Score - Decision Tree: 0.9166666666666666\n"
     ]
    }
   ],
   "source": [
    "\n",
    "# Define the parameter grid for each decision tree model\n",
    "param_grid_dtc = {\n",
    "    'max_depth': [25, 30, 35, 40, 45, 50, 55, 60, 65, 70, 75, 80],\n",
    "    'min_samples_split': [5, 10, 15, 20, 25, 30, 35],\n",
    "    'min_samples_leaf': [5, 10, 15, 20, 25, 30, 35]\n",
    "}\n",
    "\n",
    "model_peak_dtc = DecisionTreeClassifier()\n",
    "model_mean_dtc = DecisionTreeClassifier()\n",
    "model_gp_dtc = DecisionTreeClassifier()\n",
    "\n",
    "# Create GridSearchCV objects for each decision tree model\n",
    "grid_search_peak = GridSearchCV(estimator=model_peak_dtc, param_grid=param_grid_dtc, scoring='accuracy', cv=5)\n",
    "grid_search_mean = GridSearchCV(estimator=model_mean_dtc, param_grid=param_grid_dtc, scoring='accuracy', cv=5)\n",
    "grid_search_gp = GridSearchCV(estimator=model_gp_dtc, param_grid=param_grid_dtc, scoring='accuracy', cv=5)\n",
    "\n",
    "# Fit the GridSearchCV objects to the respective datasets\n",
    "grid_search_peak.fit(X_train_peak_reduced, y_train_peak)\n",
    "grid_search_mean.fit(X_train_mean_reduced, y_train_mean)\n",
    "grid_search_gp.fit(X_train_gp_reduced, y_train_gp)\n",
    "\n",
    "# Get the best estimators from the grid search\n",
    "best_model_peak = grid_search_peak.best_estimator_\n",
    "best_model_mean = grid_search_mean.best_estimator_\n",
    "best_model_gp = grid_search_gp.best_estimator_\n",
    "\n",
    "# Make predictions for each subject's test data using the best models\n",
    "pred_peak_dtc = best_model_peak.predict(X_test_peak_reduced)\n",
    "pred_mean_dtc = best_model_mean.predict(X_test_mean_reduced)\n",
    "pred_gp_dtc = best_model_gp.predict(X_test_gp_reduced)\n",
    "\n",
    "# Majority vote approach\n",
    "predictions_dtc = []\n",
    "for i in range(len(X_test_peak_reduced)):\n",
    "    votes = [pred_peak_dtc[i], pred_mean_dtc[i], pred_gp_dtc[i]]\n",
    "    majority_vote = max(set(votes), key=votes.count)\n",
    "    predictions_dtc.append(majority_vote)\n",
    "\n",
    "# Evaluate the accuracy of the ensemble models\n",
    "accuracy_majority_vote = np.mean(predictions_dtc == y_test_peak)\n",
    "\n",
    "print(\"Accuracy (Majority Vote) - Decision Tree:\", accuracy_majority_vote)\n",
    "\n",
    "precision_dtc = precision_score(y_test_peak, predictions_dtc)\n",
    "recall_dtc = recall_score(y_test_peak, predictions_dtc)               \n",
    "\n",
    "# Print the precision and recall score\n",
    "print(\"Precision Score - Decision Tree:\", precision_dtc)\n",
    "print(\"Recall Score - Decision Tree:\", recall_dtc)"
   ]
  },
  {
   "cell_type": "markdown",
   "id": "16c595de",
   "metadata": {},
   "source": [
    "### Logistic Regression"
   ]
  },
  {
   "cell_type": "code",
   "execution_count": 24,
   "id": "3109ac88",
   "metadata": {},
   "outputs": [
    {
     "name": "stdout",
     "output_type": "stream",
     "text": [
      "Accuracy (Majority Vote - Logistic Regression): 0.5555555555555556\n",
      "Precision Score - Logistic Regression: 0.625\n",
      "Recall Score - Logistic Regression: 0.8333333333333334\n"
     ]
    }
   ],
   "source": [
    "# Define the parameter grid for Logistic Regression model\n",
    "param_grid_lgr = {\n",
    "    'penalty': ['l1', 'l2'],\n",
    "    'C': [0.01, 0.1, 1, 10, 100]\n",
    "}\n",
    "\n",
    "model_peak_lgr = LogisticRegression()\n",
    "model_mean_lgr = LogisticRegression()\n",
    "model_gp_lgr = LogisticRegression()\n",
    "\n",
    "# Create GridSearchCV objects for each decision tree model\n",
    "grid_lgr_peak = GridSearchCV(estimator=model_peak_lgr, param_grid=param_grid_lgr, scoring='accuracy', cv=5)\n",
    "grid_lgr_mean = GridSearchCV(estimator=model_mean_lgr, param_grid=param_grid_lgr, scoring='accuracy', cv=5)\n",
    "grid_lgr_gp = GridSearchCV(estimator=model_gp_lgr, param_grid=param_grid_lgr, scoring='accuracy', cv=5)\n",
    "\n",
    "# Fit the GridSearchCV objects to the respective datasets\n",
    "grid_lgr_peak.fit(X_train_peak_reduced, y_train_peak)\n",
    "grid_lgr_mean.fit(X_train_mean_reduced, y_train_mean)\n",
    "grid_lgr_gp.fit(X_train_gp_reduced, y_train_gp)\n",
    "\n",
    "# Get the best estimators from the grid search\n",
    "best_lgr_peak = grid_lgr_peak.best_estimator_\n",
    "best_lgr_mean = grid_lgr_mean.best_estimator_\n",
    "best_lgr_gp = grid_lgr_gp.best_estimator_\n",
    "\n",
    "# Make predictions for each subject's test data using the best models\n",
    "pred_peak_lgr = best_lgr_peak.predict(X_test_peak_reduced)\n",
    "pred_mean_lgr = best_lgr_mean.predict(X_test_mean_reduced)\n",
    "pred_gp_lgr = best_lgr_gp.predict(X_test_gp_reduced)\n",
    "\n",
    "# Majority vote approach\n",
    "predictions_lgr = []\n",
    "for i in range(len(X_test_peak_reduced)):\n",
    "    votes = [pred_peak_lgr[i], pred_mean_lgr[i], pred_gp_lgr[i]]\n",
    "    majority_vote = max(set(votes), key=votes.count)\n",
    "    predictions_lgr.append(majority_vote)\n",
    "\n",
    "# Evaluate the accuracy of the ensemble models\n",
    "accuracy_majority_vote_logistic = np.mean(predictions_lgr == y_test_peak)\n",
    "\n",
    "print(\"Accuracy (Majority Vote - Logistic Regression):\", accuracy_majority_vote_logistic)\n",
    "\n",
    "precision_lgr = precision_score(y_test_peak, predictions_lgr)\n",
    "recall_lgr = recall_score(y_test_peak, predictions_lgr)\n",
    "\n",
    "print(\"Precision Score - Logistic Regression:\", precision_lgr)\n",
    "print(\"Recall Score - Logistic Regression:\", recall_lgr)"
   ]
  },
  {
   "cell_type": "markdown",
   "id": "706664b0",
   "metadata": {},
   "source": [
    "### K-Nearest Neighbors"
   ]
  },
  {
   "cell_type": "code",
   "execution_count": 28,
   "id": "4a9b0dd2",
   "metadata": {},
   "outputs": [
    {
     "name": "stdout",
     "output_type": "stream",
     "text": [
      "Accuracy (Majority Vote - KNN): 0.7222222222222222\n",
      "Precision Score - K-Nearest Neighbors: 0.7692307692307693\n",
      "Recall Score - K-Nearest Neighbors: 0.8333333333333334\n"
     ]
    }
   ],
   "source": [
    "# Define the hyperparameter grid to search over\n",
    "param_grid_knn = {'n_neighbors': [10, 20, 30, 40, 50, 60, 70, 80, 90, 100], 'weights': ['distance', 'uniform']}\n",
    "\n",
    "model_peak_knn = KNeighborsClassifier()\n",
    "model_mean_knn = KNeighborsClassifier()\n",
    "model_gp_knn = KNeighborsClassifier()\n",
    "\n",
    "# Create GridSearchCV objects for each KNeighborsClassifier model\n",
    "grid_knn_peak = GridSearchCV(estimator=model_peak_knn, param_grid=param_grid_knn, scoring='accuracy', cv=5)\n",
    "grid_knn_mean = GridSearchCV(estimator=model_mean_knn, param_grid=param_grid_knn, scoring='accuracy', cv=5)\n",
    "grid_knn_gp = GridSearchCV(estimator=model_gp_knn, param_grid=param_grid_knn, scoring='accuracy', cv=5)\n",
    "\n",
    "# Fit the GridSearchCV objects to the respective datasets\n",
    "grid_knn_peak.fit(X_train_peak_reduced, y_train_peak)\n",
    "grid_knn_mean.fit(X_train_mean_reduced, y_train_mean)\n",
    "grid_knn_gp.fit(X_train_gp_reduced, y_train_gp)\n",
    "\n",
    "# Get the best estimators from the grid search\n",
    "best_knn_peak = grid_knn_peak.best_estimator_\n",
    "best_knn_mean = grid_knn_mean.best_estimator_\n",
    "best_knn_gp = grid_knn_gp.best_estimator_\n",
    "\n",
    "# Make predictions for each subject's test data using the best models\n",
    "pred_peak_knn = best_knn_peak.predict(X_test_peak_reduced)\n",
    "pred_mean_knn = best_knn_mean.predict(X_test_mean_reduced)\n",
    "pred_gp_knn = best_knn_gp.predict(X_test_gp_reduced)\n",
    "\n",
    "# Majority vote approach\n",
    "predictions_knn = []\n",
    "for i in range(len(X_test_peak_reduced)):\n",
    "    votes = [pred_peak_knn[i], pred_mean_knn[i], pred_gp_knn[i]]\n",
    "    majority_vote = max(set(votes), key=votes.count)\n",
    "    predictions_knn.append(majority_vote)\n",
    "\n",
    "# Evaluate the accuracy of the ensemble models\n",
    "accuracy_majority_vote_knn = np.mean(predictions_knn == y_test_peak)\n",
    "\n",
    "print(\"Accuracy (Majority Vote - KNN):\", accuracy_majority_vote_knn)\n",
    "\n",
    "precision_knn = precision_score(y_test_peak, predictions_knn)\n",
    "recall_knn = recall_score(y_test_peak, predictions_knn)\n",
    "\n",
    "print(\"Precision Score - K-Nearest Neighbors:\", precision_knn)\n",
    "print(\"Recall Score - K-Nearest Neighbors:\", recall_knn)"
   ]
  },
  {
   "cell_type": "markdown",
   "id": "b6259990",
   "metadata": {},
   "source": [
    "### SVM"
   ]
  },
  {
   "cell_type": "code",
   "execution_count": 29,
   "id": "9f462756",
   "metadata": {},
   "outputs": [
    {
     "name": "stdout",
     "output_type": "stream",
     "text": [
      "Accuracy (Majority Vote - SVM): 0.5555555555555556\n",
      "Precision Score - Support Vector Machine: 0.625\n",
      "Recall Score - Support Vector Machine: 0.8333333333333334\n"
     ]
    }
   ],
   "source": [
    "# Define the parameter grid for GridSearchCV\n",
    "param_grid_svm = {\n",
    "    'C': [0.1, 1, 10],\n",
    "    'kernel': ['linear', 'rbf'],\n",
    "    'gamma': ['scale', 'auto']\n",
    "}\n",
    "\n",
    "model_peak_svm = SVC()\n",
    "model_mean_svm = SVC()\n",
    "model_gp_svm = SVC()\n",
    "\n",
    "# Create GridSearchCV objects for each SVC model\n",
    "grid_svm_peak = GridSearchCV(estimator=model_peak_svm, param_grid=param_grid_svm, scoring='accuracy', cv=5)\n",
    "grid_svm_mean = GridSearchCV(estimator=model_mean_svm, param_grid=param_grid_svm, scoring='accuracy', cv=5)\n",
    "grid_svm_gp = GridSearchCV(estimator=model_gp_svm, param_grid=param_grid_svm, scoring='accuracy', cv=5)\n",
    "\n",
    "# Fit the GridSearchCV objects to the respective datasets\n",
    "grid_svm_peak.fit(X_train_peak_reduced, y_train_peak)\n",
    "grid_svm_mean.fit(X_train_mean_reduced, y_train_mean)\n",
    "grid_svm_gp.fit(X_train_gp_reduced, y_train_gp)\n",
    "\n",
    "# Get the best estimators from the grid search\n",
    "best_svm_peak = grid_svm_peak.best_estimator_\n",
    "best_svm_mean = grid_svm_mean.best_estimator_\n",
    "best_svm_gp = grid_svm_gp.best_estimator_\n",
    "\n",
    "# Make predictions for each subject's test data using the best models\n",
    "pred_peak_svm = best_svm_peak.predict(X_test_peak_reduced)\n",
    "pred_mean_svm = best_svm_mean.predict(X_test_mean_reduced)\n",
    "pred_gp_svm = best_svm_gp.predict(X_test_gp_reduced)\n",
    "\n",
    "# Majority vote approach\n",
    "predictions_svm = []\n",
    "for i in range(len(X_test_peak_reduced)):\n",
    "    votes = [pred_peak_svm[i], pred_mean_svm[i], pred_gp_svm[i]]\n",
    "    majority_vote = max(set(votes), key=votes.count)\n",
    "    predictions_svm.append(majority_vote)\n",
    "\n",
    "# Evaluate the accuracy of the ensemble models\n",
    "accuracy_majority_vote_svm = np.mean(predictions_svm == y_test_peak)\n",
    "\n",
    "print(\"Accuracy (Majority Vote - SVM):\", accuracy_majority_vote_svm)\n",
    "\n",
    "precision_svm = precision_score(y_test_peak, predictions_svm)\n",
    "recall_svm = recall_score(y_test_peak, predictions_svm)\n",
    "\n",
    "print(\"Precision Score - Support Vector Machine:\", precision_svm)\n",
    "print(\"Recall Score - Support Vector Machine:\", recall_svm)"
   ]
  },
  {
   "cell_type": "markdown",
   "id": "a92e43b4",
   "metadata": {},
   "source": [
    "### Confusion Matrix "
   ]
  },
  {
   "cell_type": "markdown",
   "id": "173d40a8",
   "metadata": {},
   "source": [
    "Confusion matrices are helpful in multiclass classification because they provide a comprehensive and detailed evaluation of the performance of a classifier across multiple classes. "
   ]
  },
  {
   "cell_type": "code",
   "execution_count": 30,
   "id": "e9ec0d46",
   "metadata": {},
   "outputs": [
    {
     "data": {
      "image/png": "[encoded data removed]",
      "text/plain": [
       "<Figure size 800x800 with 4 Axes>"
      ]
     },
     "metadata": {},
     "output_type": "display_data"
    }
   ],
   "source": [
    "\n",
    "# Create a list of prediction results and corresponding labels\n",
    "predictions = [predictions_svm, predictions_lgr, predictions_knn, predictions_dtc]\n",
    "labels = ['SVM', 'Logistic Regression', 'KNN', 'Decision Tree']\n",
    "\n",
    "# Create a 2x2 grid of subplots\n",
    "fig, axes = plt.subplots(nrows=2, ncols=2, figsize=(8, 8))\n",
    "\n",
    "# Iterate over each model's predictions and plot the confusion matrix\n",
    "for i, prediction in enumerate(predictions):\n",
    "    row = i // 2\n",
    "    col = i % 2\n",
    "    ax = axes[row][col]\n",
    "    \n",
    "    # Compute the confusion matrix\n",
    "    cm = confusion_matrix(y_test_peak, prediction)\n",
    "    \n",
    "    # Create a heatmap of the confusion matrix\n",
    "    sns.heatmap(cm, annot=True, fmt='d', cmap='Blues', cbar=False, ax=ax)\n",
    "    ax.set_title(labels[i])\n",
    "    ax.set_xlabel('Predicted')\n",
    "    ax.set_ylabel('True')\n",
    "\n",
    "# Adjust the spacing between subplots\n",
    "plt.tight_layout()\n",
    "\n",
    "# Display the plot\n",
    "plt.show()\n"
   ]
  },
  {
   "cell_type": "markdown",
   "id": "ab0d7930",
   "metadata": {},
   "source": [
    "The confusion matrices show that the Decision Tree Classifier was in fact the best performing model."
   ]
  },
  {
   "cell_type": "markdown",
   "id": "a68261bc",
   "metadata": {},
   "source": [
    "### Further investigating Decison Trees"
   ]
  },
  {
   "cell_type": "markdown",
   "id": "96aeffbf",
   "metadata": {},
   "source": [
    "Since the Decision Tree Classifier (DTC) performed the best among the models, I will now refit the model on the original data to investigate the importance of features. Specifically, I will compare the importance of features related to peak frequency, mean frequency, and Global Power. By analyzing the importance scores, I aim to identify significant features within each category and determine if there are any overlapping features that contribute to the diagnosis of dementia. This analysis will provide valuable insights into the discriminatory power of different EEG features and their relevance for dementia diagnosis."
   ]
  },
  {
   "cell_type": "markdown",
   "id": "dacad1a7",
   "metadata": {},
   "source": [
    "#### Re-fitting the DTC model"
   ]
  },
  {
   "cell_type": "code",
   "execution_count": 31,
   "id": "0c4f3eaf",
   "metadata": {},
   "outputs": [
    {
     "data": {
      "text/html": [
       "<style>#sk-container-id-1 {color: black;background-color: white;}#sk-container-id-1 pre{padding: 0;}#sk-container-id-1 div.sk-toggleable {background-color: white;}#sk-container-id-1 label.sk-toggleable__label {cursor: pointer;display: block;width: 100%;margin-bottom: 0;padding: 0.3em;box-sizing: border-box;text-align: center;}#sk-container-id-1 label.sk-toggleable__label-arrow:before {content: \"▸\";float: left;margin-right: 0.25em;color: #696969;}#sk-container-id-1 label.sk-toggleable__label-arrow:hover:before {color: black;}#sk-container-id-1 div.sk-estimator:hover label.sk-toggleable__label-arrow:before {color: black;}#sk-container-id-1 div.sk-toggleable__content {max-height: 0;max-width: 0;overflow: hidden;text-align: left;background-color: #f0f8ff;}#sk-container-id-1 div.sk-toggleable__content pre {margin: 0.2em;color: black;border-radius: 0.25em;background-color: #f0f8ff;}#sk-container-id-1 input.sk-toggleable__control:checked~div.sk-toggleable__content {max-height: 200px;max-width: 100%;overflow: auto;}#sk-container-id-1 input.sk-toggleable__control:checked~label.sk-toggleable__label-arrow:before {content: \"▾\";}#sk-container-id-1 div.sk-estimator input.sk-toggleable__control:checked~label.sk-toggleable__label {background-color: #d4ebff;}#sk-container-id-1 div.sk-label input.sk-toggleable__control:checked~label.sk-toggleable__label {background-color: #d4ebff;}#sk-container-id-1 input.sk-hidden--visually {border: 0;clip: rect(1px 1px 1px 1px);clip: rect(1px, 1px, 1px, 1px);height: 1px;margin: -1px;overflow: hidden;padding: 0;position: absolute;width: 1px;}#sk-container-id-1 div.sk-estimator {font-family: monospace;background-color: #f0f8ff;border: 1px dotted black;border-radius: 0.25em;box-sizing: border-box;margin-bottom: 0.5em;}#sk-container-id-1 div.sk-estimator:hover {background-color: #d4ebff;}#sk-container-id-1 div.sk-parallel-item::after {content: \"\";width: 100%;border-bottom: 1px solid gray;flex-grow: 1;}#sk-container-id-1 div.sk-label:hover label.sk-toggleable__label {background-color: #d4ebff;}#sk-container-id-1 div.sk-serial::before {content: \"\";position: absolute;border-left: 1px solid gray;box-sizing: border-box;top: 0;bottom: 0;left: 50%;z-index: 0;}#sk-container-id-1 div.sk-serial {display: flex;flex-direction: column;align-items: center;background-color: white;padding-right: 0.2em;padding-left: 0.2em;position: relative;}#sk-container-id-1 div.sk-item {position: relative;z-index: 1;}#sk-container-id-1 div.sk-parallel {display: flex;align-items: stretch;justify-content: center;background-color: white;position: relative;}#sk-container-id-1 div.sk-item::before, #sk-container-id-1 div.sk-parallel-item::before {content: \"\";position: absolute;border-left: 1px solid gray;box-sizing: border-box;top: 0;bottom: 0;left: 50%;z-index: -1;}#sk-container-id-1 div.sk-parallel-item {display: flex;flex-direction: column;z-index: 1;position: relative;background-color: white;}#sk-container-id-1 div.sk-parallel-item:first-child::after {align-self: flex-end;width: 50%;}#sk-container-id-1 div.sk-parallel-item:last-child::after {align-self: flex-start;width: 50%;}#sk-container-id-1 div.sk-parallel-item:only-child::after {width: 0;}#sk-container-id-1 div.sk-dashed-wrapped {border: 1px dashed gray;margin: 0 0.4em 0.5em 0.4em;box-sizing: border-box;padding-bottom: 0.4em;background-color: white;}#sk-container-id-1 div.sk-label label {font-family: monospace;font-weight: bold;display: inline-block;line-height: 1.2em;}#sk-container-id-1 div.sk-label-container {text-align: center;}#sk-container-id-1 div.sk-container {/* jupyter's `normalize.less` sets `[hidden] { display: none; }` but bootstrap.min.css set `[hidden] { display: none !important; }` so we also need the `!important` here to be able to override the default hidden behavior on the sphinx rendered scikit-learn.org. See: https://github.com/scikit-learn/scikit-learn/issues/21755 */display: inline-block !important;position: relative;}#sk-container-id-1 div.sk-text-repr-fallback {display: none;}</style><div id=\"sk-container-id-1\" class=\"sk-top-container\"><div class=\"sk-text-repr-fallback\"><pre>GridSearchCV(cv=5, estimator=DecisionTreeClassifier(),\n",
       "             param_grid={&#x27;max_depth&#x27;: [25, 30, 35, 40, 45, 50, 55, 60, 65, 70,\n",
       "                                       75, 80],\n",
       "                         &#x27;min_samples_leaf&#x27;: [5, 10, 15, 20, 25, 30, 35],\n",
       "                         &#x27;min_samples_split&#x27;: [5, 10, 15, 20, 25, 30, 35]},\n",
       "             scoring=&#x27;accuracy&#x27;)</pre><b>In a Jupyter environment, please rerun this cell to show the HTML representation or trust the notebook. <br />On GitHub, the HTML representation is unable to render, please try loading this page with nbviewer.org.</b></div><div class=\"sk-container\" hidden><div class=\"sk-item sk-dashed-wrapped\"><div class=\"sk-label-container\"><div class=\"sk-label sk-toggleable\"><input class=\"sk-toggleable__control sk-hidden--visually\" id=\"sk-estimator-id-1\" type=\"checkbox\" ><label for=\"sk-estimator-id-1\" class=\"sk-toggleable__label sk-toggleable__label-arrow\">GridSearchCV</label><div class=\"sk-toggleable__content\"><pre>GridSearchCV(cv=5, estimator=DecisionTreeClassifier(),\n",
       "             param_grid={&#x27;max_depth&#x27;: [25, 30, 35, 40, 45, 50, 55, 60, 65, 70,\n",
       "                                       75, 80],\n",
       "                         &#x27;min_samples_leaf&#x27;: [5, 10, 15, 20, 25, 30, 35],\n",
       "                         &#x27;min_samples_split&#x27;: [5, 10, 15, 20, 25, 30, 35]},\n",
       "             scoring=&#x27;accuracy&#x27;)</pre></div></div></div><div class=\"sk-parallel\"><div class=\"sk-parallel-item\"><div class=\"sk-item\"><div class=\"sk-label-container\"><div class=\"sk-label sk-toggleable\"><input class=\"sk-toggleable__control sk-hidden--visually\" id=\"sk-estimator-id-2\" type=\"checkbox\" ><label for=\"sk-estimator-id-2\" class=\"sk-toggleable__label sk-toggleable__label-arrow\">estimator: DecisionTreeClassifier</label><div class=\"sk-toggleable__content\"><pre>DecisionTreeClassifier()</pre></div></div></div><div class=\"sk-serial\"><div class=\"sk-item\"><div class=\"sk-estimator sk-toggleable\"><input class=\"sk-toggleable__control sk-hidden--visually\" id=\"sk-estimator-id-3\" type=\"checkbox\" ><label for=\"sk-estimator-id-3\" class=\"sk-toggleable__label sk-toggleable__label-arrow\">DecisionTreeClassifier</label><div class=\"sk-toggleable__content\"><pre>DecisionTreeClassifier()</pre></div></div></div></div></div></div></div></div></div></div>"
      ],
      "text/plain": [
       "GridSearchCV(cv=5, estimator=DecisionTreeClassifier(),\n",
       "             param_grid={'max_depth': [25, 30, 35, 40, 45, 50, 55, 60, 65, 70,\n",
       "                                       75, 80],\n",
       "                         'min_samples_leaf': [5, 10, 15, 20, 25, 30, 35],\n",
       "                         'min_samples_split': [5, 10, 15, 20, 25, 30, 35]},\n",
       "             scoring='accuracy')"
      ]
     },
     "execution_count": 31,
     "metadata": {},
     "output_type": "execute_result"
    }
   ],
   "source": [
    "grid_search_peak.fit(X_train_peak_scaled, y_train_peak)\n",
    "grid_search_mean.fit(X_train_mean_scaled, y_train_mean)\n",
    "grid_search_gp.fit(X_train_gp_scaled, y_train_gp)"
   ]
  },
  {
   "cell_type": "markdown",
   "id": "905c65d1",
   "metadata": {},
   "source": [
    "#### Plot the important features"
   ]
  },
  {
   "cell_type": "code",
   "execution_count": 32,
   "id": "2298104a",
   "metadata": {},
   "outputs": [
    {
     "data": {
      "image/png": "[encoded data removed]",
      "text/plain": [
       "<Figure size 1500x500 with 3 Axes>"
      ]
     },
     "metadata": {},
     "output_type": "display_data"
    }
   ],
   "source": [
    "\n",
    "# Get feature importance for each DTC model\n",
    "feature_importance_peak = grid_search_peak.best_estimator_.feature_importances_\n",
    "feature_importance_mean = grid_search_mean.best_estimator_.feature_importances_\n",
    "feature_importance_gp = grid_search_gp.best_estimator_.feature_importances_\n",
    "\n",
    "# Get feature names\n",
    "feature_names_peak = X_train_peak.columns\n",
    "feature_names_mean = X_train_mean.columns\n",
    "feature_names_gp = X_train_gp.columns\n",
    "\n",
    "# Create subplots for each dataset\n",
    "fig, axes = plt.subplots(nrows=1, ncols=3, figsize=(15, 5))\n",
    "\n",
    "# Plot feature importance for Peak dataset\n",
    "axes[0].barh(feature_names_peak, feature_importance_peak)\n",
    "axes[0].set_title('Feature Importance - Peak Frequency Dataset')\n",
    "axes[0].set_xlabel('Importance')\n",
    "axes[0].set_ylabel('Features')\n",
    "\n",
    "# Plot feature importance for Mean dataset\n",
    "axes[1].barh(feature_names_mean, feature_importance_mean)\n",
    "axes[1].set_title('Feature Importance - Mean Frequency Dataset')\n",
    "axes[1].set_xlabel('Importance')\n",
    "axes[1].set_ylabel('Features')\n",
    "\n",
    "# Plot feature importance for Global Power dataset\n",
    "axes[2].barh(feature_names_gp, feature_importance_gp)\n",
    "axes[2].set_title('Feature Importance - Global Power Dataset')\n",
    "axes[2].set_xlabel('Importance')\n",
    "axes[2].set_ylabel('Features')\n",
    "\n",
    "# Adjust the spacing between subplots\n",
    "plt.tight_layout()\n",
    "\n",
    "# Display the plot\n",
    "plt.show()"
   ]
  },
  {
   "cell_type": "markdown",
   "id": "3dee7d6c",
   "metadata": {},
   "source": [
    "Upon examining the feature importance results, it is observed that there are no overlapping features between the different measures (peak frequency, mean frequency, and Global Power). This finding highlights the importance of analyzing the measures separately by fitting them on different models before aggregating the results. It suggests that each measure captures unique and distinct information regarding dementia diagnosis. "
   ]
  },
  {
   "cell_type": "markdown",
   "id": "0731402f",
   "metadata": {},
   "source": [
    "### Random Forests"
   ]
  },
  {
   "cell_type": "markdown",
   "id": "207daa23",
   "metadata": {},
   "source": [
    "Since the decision tree model shows promising accuracy, using a random forest classifier may yield even better results. Random forests build an ensemble of decision trees, leveraging the diversity and combination of multiple trees to improve overall performance. By averaging the predictions of individual trees and reducing overfitting, random forests can handle complex datasets and provide robust and accurate predictions. "
   ]
  },
  {
   "cell_type": "code",
   "execution_count": 33,
   "id": "e419aa91",
   "metadata": {},
   "outputs": [
    {
     "name": "stdout",
     "output_type": "stream",
     "text": [
      "Accuracy (Majority Vote - Random Forest): 0.5\n",
      "Precision Score - Random Forest: 0.6153846153846154\n",
      "Recall Score - Random Forest: 0.6666666666666666\n"
     ]
    }
   ],
   "source": [
    "# Define the parameter grid for GridSearchCV\n",
    "param_grid_rf = {\n",
    "    'n_estimators': [25, 50, 100],  # Number of trees in the random forest\n",
    "    'max_depth': [25, 30, 35, 40, 45, 50, 55, 60, 65, 70, 75, 80],\n",
    "    'min_samples_split': [5, 10, 15, 20, 25, 30, 35],\n",
    "    'min_samples_leaf': [5, 10, 15, 20, 25, 30, 35]\n",
    "}\n",
    "\n",
    "model_peak_rf = RandomForestClassifier()\n",
    "model_mean_rf = RandomForestClassifier()\n",
    "model_gp_rf = RandomForestClassifier()\n",
    "\n",
    "# Create GridSearchCV objects for each Random Forest model\n",
    "grid_rf_peak = GridSearchCV(estimator=model_peak_rf, param_grid=param_grid_rf, scoring='accuracy', cv=5)\n",
    "grid_rf_mean = GridSearchCV(estimator=model_mean_rf, param_grid=param_grid_rf, scoring='accuracy', cv=5)\n",
    "grid_rf_gp = GridSearchCV(estimator=model_gp_rf, param_grid=param_grid_rf, scoring='accuracy', cv=5)\n",
    "\n",
    "# Fit the GridSearchCV objects to the respective datasets\n",
    "grid_rf_peak.fit(X_train_peak_reduced, y_train_peak)\n",
    "grid_rf_mean.fit(X_train_mean_reduced, y_train_mean)\n",
    "grid_rf_gp.fit(X_train_gp_reduced, y_train_gp)\n",
    "\n",
    "# Get the best estimators from the grid search\n",
    "best_rf_peak = grid_rf_peak.best_estimator_\n",
    "best_rf_mean = grid_rf_mean.best_estimator_\n",
    "best_rf_gp = grid_rf_gp.best_estimator_\n",
    "\n",
    "# Make predictions for each subject's test data using the best models\n",
    "pred_peak_rf = best_rf_peak.predict(X_test_peak_reduced)\n",
    "pred_mean_rf = best_rf_mean.predict(X_test_mean_reduced)\n",
    "pred_gp_rf = best_rf_gp.predict(X_test_gp_reduced)\n",
    "\n",
    "# Majority vote approach\n",
    "predictions_rf = []\n",
    "for i in range(len(X_test_peak_reduced)):\n",
    "    votes = [pred_peak_rf[i], pred_mean_rf[i], pred_gp_rf[i]]\n",
    "    majority_vote = max(set(votes), key=votes.count)\n",
    "    predictions_rf.append(majority_vote)\n",
    "\n",
    "# Evaluate the accuracy of the ensemble models\n",
    "accuracy_majority_vote_rf = np.mean(predictions_rf == y_test_peak)\n",
    "\n",
    "print(\"Accuracy (Majority Vote - Random Forest):\", accuracy_majority_vote_rf)\n",
    "\n",
    "precision_rf = precision_score(y_test_peak, predictions_rf)\n",
    "recall_rf = recall_score(y_test_peak, predictions_rf)\n",
    "\n",
    "print(\"Precision Score - Random Forest:\", precision_rf)\n",
    "print(\"Recall Score - Random Forest:\", recall_rf)"
   ]
  },
  {
   "cell_type": "markdown",
   "id": "96761064",
   "metadata": {},
   "source": [
    "####  Confusion Matrix for Random Forests"
   ]
  },
  {
   "cell_type": "code",
   "execution_count": 35,
   "id": "dff43bd6",
   "metadata": {},
   "outputs": [
    {
     "data": {
      "image/png": "[encoded data removed]",
      "text/plain": [
       "<Figure size 400x400 with 1 Axes>"
      ]
     },
     "metadata": {},
     "output_type": "display_data"
    }
   ],
   "source": [
    "from sklearn.metrics import confusion_matrix\n",
    "import seaborn as sns\n",
    "import matplotlib.pyplot as plt\n",
    "\n",
    "# Compute the confusion matrix\n",
    "cm_rf = confusion_matrix(y_test_peak, predictions_rf)\n",
    "\n",
    "# Create a heatmap of the confusion matrix\n",
    "plt.figure(figsize=(4, 4))\n",
    "sns.heatmap(cm_rf, annot=True, fmt=\"d\", cmap=\"Blues\", cbar=False,\n",
    "            xticklabels=[\"Healthy\", \"Dementia\"], yticklabels=[\"Healthy\", \"Dementia\"])\n",
    "plt.xlabel(\"Predicted label\")\n",
    "plt.ylabel(\"True label\")\n",
    "plt.title(\"Confusion Matrix - Random Forest\")\n",
    "plt.show()"
   ]
  },
  {
   "cell_type": "markdown",
   "id": "628c997d",
   "metadata": {},
   "source": [
    "The Random Forest Classifier did not out perform Decision Trees Classifier. This may be due to limited sample size."
   ]
  },
  {
   "cell_type": "markdown",
   "id": "c7e4880b",
   "metadata": {},
   "source": [
    "## Table Results"
   ]
  },
  {
   "cell_type": "code",
   "execution_count": 36,
   "id": "ef505f8c",
   "metadata": {},
   "outputs": [
    {
     "name": "stdout",
     "output_type": "stream",
     "text": [
      "╒═════════════════════╤════════════╤═════════════╤══════════╕\n",
      "│ Model               │   Accuracy │   Precision │   Recall │\n",
      "╞═════════════════════╪════════════╪═════════════╪══════════╡\n",
      "│ Decision Tree       │   0.833333 │    0.846154 │ 0.916667 │\n",
      "├─────────────────────┼────────────┼─────────────┼──────────┤\n",
      "│ Logistic Regression │   0.555556 │    0.625    │ 0.833333 │\n",
      "├─────────────────────┼────────────┼─────────────┼──────────┤\n",
      "│ K-Nearest Neighbors │   0.722222 │    0.769231 │ 0.833333 │\n",
      "├─────────────────────┼────────────┼─────────────┼──────────┤\n",
      "│ SVM                 │   0.555556 │    0.625    │ 0.833333 │\n",
      "├─────────────────────┼────────────┼─────────────┼──────────┤\n",
      "│ Random Forest       │   0.5      │    0.615385 │ 0.666667 │\n",
      "╘═════════════════════╧════════════╧═════════════╧══════════╛\n"
     ]
    }
   ],
   "source": [
    "# Define the model names, accuracy scores, precision scores, and recall scores\n",
    "model_names = [\"Decision Tree\", \"Logistic Regression\", \"K-Nearest Neighbors\", \"SVM\", \"Random Forest\"]\n",
    "accuracy_scores = [accuracy_majority_vote, accuracy_majority_vote_logistic, accuracy_majority_vote_knn, accuracy_majority_vote_svm, accuracy_majority_vote_rf]\n",
    "precision_scores = [precision_dtc, precision_lgr, precision_knn, precision_svm, precision_rf]\n",
    "recall_scores = [recall_dtc, recall_lgr, recall_knn, recall_svm, recall_rf]\n",
    "\n",
    "# Create a list of lists with the data\n",
    "table_data = [[model_names[i], accuracy_scores[i], precision_scores[i], recall_scores[i]] for i in range(len(model_names))]\n",
    "\n",
    "# Define the table headers\n",
    "headers = [\"Model\", \"Accuracy\", \"Precision\", \"Recall\"]\n",
    "\n",
    "# Print the table using tabulate\n",
    "print(tabulate(table_data, headers, tablefmt=\"fancy_grid\"))\n"
   ]
  },
  {
   "cell_type": "markdown",
   "id": "77c0945f",
   "metadata": {},
   "source": [
    "After observing the performance metrics from the table, it is evident that Decision Tree Classifier obtained highest accuracy, precision and recall."
   ]
  },
  {
   "cell_type": "markdown",
   "id": "f0f16e28",
   "metadata": {},
   "source": [
    "# Convolutional Neural Network (CNN)"
   ]
  },
  {
   "cell_type": "markdown",
   "id": "931b0e89",
   "metadata": {},
   "source": [
    "After completing the exploration of classical machine learning models, I have come to the realization that interpretability is not a crucial factor in determining the importance of EEG components. Therefore, I am now venturing into the realm of convolutional neural networks (CNNs) to evaluate whether they can provide improved accuracy. CNNs have proven to be effective in capturing complex patterns and spatial relationships in data, making them well-suited for analyzing EEG signals. By leveraging the power of deep learning, I hope to uncover hidden insights and achieve enhanced accuracy in my EEG classification task."
   ]
  },
  {
   "cell_type": "markdown",
   "id": "b8a49ae8",
   "metadata": {},
   "source": [
    "I will create my own neural network and not use existing pre-trained models like DeepConvNet as these models take raw EEG data as input, while I am specifically analyzing the ICA componenets of EEG data."
   ]
  },
  {
   "cell_type": "code",
   "execution_count": 181,
   "id": "8526e8bf",
   "metadata": {},
   "outputs": [
    {
     "data": {
      "text/plain": [
       "Index(['Type', 'C3', 'C4', 'Cz', 'F3', 'F4', 'F7', 'F8', 'Fp1', 'Fp2', 'Fz',\n",
       "       'O1', 'O2', 'P3', 'P4', 'Pz', 'T3', 'T4', 'T5', 'T6', 'Age', 'Group',\n",
       "       'MMSE', 'dx_num'],\n",
       "      dtype='object')"
      ]
     },
     "execution_count": 181,
     "metadata": {},
     "output_type": "execute_result"
    }
   ],
   "source": [
    "df_peak_full.columns"
   ]
  },
  {
   "cell_type": "code",
   "execution_count": 37,
   "id": "d7998e1e",
   "metadata": {},
   "outputs": [],
   "source": [
    "df_peak_full = df_peak_full.drop(['Type', 'Age', 'Group','dx_num'], axis=1).add_prefix(\"peak_\")\n",
    "df_mean_full = df_mean_full.drop(['Type', 'Age', 'Group','MMSE','dx_num'], axis=1).add_prefix(\"mean_\")\n",
    "df_gp_full = df_gp_full.drop(['Type', 'Age', 'MMSE','Group'], axis=1).add_prefix(\"gp_\")\n",
    "\n",
    "# Concatenate the dataframes horizontally\n",
    "df_combined = pd.concat([df_peak_full, df_mean_full, df_gp_full], axis=1)\n"
   ]
  },
  {
   "cell_type": "code",
   "execution_count": 38,
   "id": "31108177",
   "metadata": {},
   "outputs": [
    {
     "data": {
      "text/html": [
       "<div>\n",
       "<style scoped>\n",
       "    .dataframe tbody tr th:only-of-type {\n",
       "        vertical-align: middle;\n",
       "    }\n",
       "\n",
       "    .dataframe tbody tr th {\n",
       "        vertical-align: top;\n",
       "    }\n",
       "\n",
       "    .dataframe thead th {\n",
       "        text-align: right;\n",
       "    }\n",
       "</style>\n",
       "<table border=\"1\" class=\"dataframe\">\n",
       "  <thead>\n",
       "    <tr style=\"text-align: right;\">\n",
       "      <th></th>\n",
       "      <th>peak_C3</th>\n",
       "      <th>peak_C4</th>\n",
       "      <th>peak_Cz</th>\n",
       "      <th>peak_F3</th>\n",
       "      <th>peak_F4</th>\n",
       "      <th>peak_F7</th>\n",
       "      <th>peak_F8</th>\n",
       "      <th>peak_Fp1</th>\n",
       "      <th>peak_Fp2</th>\n",
       "      <th>peak_Fz</th>\n",
       "      <th>...</th>\n",
       "      <th>gp_O1</th>\n",
       "      <th>gp_O2</th>\n",
       "      <th>gp_P3</th>\n",
       "      <th>gp_P4</th>\n",
       "      <th>gp_Pz</th>\n",
       "      <th>gp_T3</th>\n",
       "      <th>gp_T4</th>\n",
       "      <th>gp_T5</th>\n",
       "      <th>gp_T6</th>\n",
       "      <th>gp_dx_num</th>\n",
       "    </tr>\n",
       "    <tr>\n",
       "      <th>subj_id</th>\n",
       "      <th></th>\n",
       "      <th></th>\n",
       "      <th></th>\n",
       "      <th></th>\n",
       "      <th></th>\n",
       "      <th></th>\n",
       "      <th></th>\n",
       "      <th></th>\n",
       "      <th></th>\n",
       "      <th></th>\n",
       "      <th></th>\n",
       "      <th></th>\n",
       "      <th></th>\n",
       "      <th></th>\n",
       "      <th></th>\n",
       "      <th></th>\n",
       "      <th></th>\n",
       "      <th></th>\n",
       "      <th></th>\n",
       "      <th></th>\n",
       "      <th></th>\n",
       "    </tr>\n",
       "  </thead>\n",
       "  <tbody>\n",
       "    <tr>\n",
       "      <th>sub-001</th>\n",
       "      <td>0.406802</td>\n",
       "      <td>0.406802</td>\n",
       "      <td>0.406802</td>\n",
       "      <td>0.406802</td>\n",
       "      <td>0.406802</td>\n",
       "      <td>0.406802</td>\n",
       "      <td>0.406802</td>\n",
       "      <td>0.360120</td>\n",
       "      <td>0.406802</td>\n",
       "      <td>0.406802</td>\n",
       "      <td>...</td>\n",
       "      <td>0.000305</td>\n",
       "      <td>0.000312</td>\n",
       "      <td>0.000297</td>\n",
       "      <td>0.000300</td>\n",
       "      <td>0.000299</td>\n",
       "      <td>0.000297</td>\n",
       "      <td>0.000299</td>\n",
       "      <td>0.000308</td>\n",
       "      <td>0.000302</td>\n",
       "      <td>1</td>\n",
       "    </tr>\n",
       "    <tr>\n",
       "      <th>sub-002</th>\n",
       "      <td>0.465263</td>\n",
       "      <td>0.465263</td>\n",
       "      <td>0.465263</td>\n",
       "      <td>0.465263</td>\n",
       "      <td>0.465263</td>\n",
       "      <td>0.465263</td>\n",
       "      <td>0.465263</td>\n",
       "      <td>0.465263</td>\n",
       "      <td>0.465263</td>\n",
       "      <td>0.465263</td>\n",
       "      <td>...</td>\n",
       "      <td>0.000410</td>\n",
       "      <td>0.000405</td>\n",
       "      <td>0.000395</td>\n",
       "      <td>0.000390</td>\n",
       "      <td>0.000392</td>\n",
       "      <td>0.000401</td>\n",
       "      <td>0.000395</td>\n",
       "      <td>0.000407</td>\n",
       "      <td>0.000409</td>\n",
       "      <td>1</td>\n",
       "    </tr>\n",
       "    <tr>\n",
       "      <th>sub-003</th>\n",
       "      <td>0.336491</td>\n",
       "      <td>0.336491</td>\n",
       "      <td>0.336491</td>\n",
       "      <td>0.336491</td>\n",
       "      <td>0.336491</td>\n",
       "      <td>0.336491</td>\n",
       "      <td>0.336491</td>\n",
       "      <td>0.336491</td>\n",
       "      <td>0.336491</td>\n",
       "      <td>0.336491</td>\n",
       "      <td>...</td>\n",
       "      <td>0.000133</td>\n",
       "      <td>0.000135</td>\n",
       "      <td>0.000125</td>\n",
       "      <td>0.000126</td>\n",
       "      <td>0.000122</td>\n",
       "      <td>0.000124</td>\n",
       "      <td>0.000124</td>\n",
       "      <td>0.000136</td>\n",
       "      <td>0.000142</td>\n",
       "      <td>1</td>\n",
       "    </tr>\n",
       "    <tr>\n",
       "      <th>sub-004</th>\n",
       "      <td>0.413539</td>\n",
       "      <td>0.495680</td>\n",
       "      <td>0.413539</td>\n",
       "      <td>0.495680</td>\n",
       "      <td>0.495680</td>\n",
       "      <td>0.495680</td>\n",
       "      <td>0.495680</td>\n",
       "      <td>0.413539</td>\n",
       "      <td>0.495680</td>\n",
       "      <td>0.495680</td>\n",
       "      <td>...</td>\n",
       "      <td>0.000429</td>\n",
       "      <td>0.000419</td>\n",
       "      <td>0.000382</td>\n",
       "      <td>0.000388</td>\n",
       "      <td>0.000379</td>\n",
       "      <td>0.000400</td>\n",
       "      <td>0.000394</td>\n",
       "      <td>0.000386</td>\n",
       "      <td>0.000390</td>\n",
       "      <td>1</td>\n",
       "    </tr>\n",
       "    <tr>\n",
       "      <th>sub-005</th>\n",
       "      <td>0.419102</td>\n",
       "      <td>0.419102</td>\n",
       "      <td>0.419102</td>\n",
       "      <td>0.419102</td>\n",
       "      <td>0.395473</td>\n",
       "      <td>0.419102</td>\n",
       "      <td>0.419102</td>\n",
       "      <td>0.400448</td>\n",
       "      <td>0.419102</td>\n",
       "      <td>0.419102</td>\n",
       "      <td>...</td>\n",
       "      <td>0.000467</td>\n",
       "      <td>0.000434</td>\n",
       "      <td>0.000443</td>\n",
       "      <td>0.000427</td>\n",
       "      <td>0.000421</td>\n",
       "      <td>0.000438</td>\n",
       "      <td>0.000428</td>\n",
       "      <td>0.000444</td>\n",
       "      <td>0.000427</td>\n",
       "      <td>1</td>\n",
       "    </tr>\n",
       "  </tbody>\n",
       "</table>\n",
       "<p>5 rows × 59 columns</p>\n",
       "</div>"
      ],
      "text/plain": [
       "          peak_C3   peak_C4   peak_Cz   peak_F3   peak_F4   peak_F7   peak_F8  \\\n",
       "subj_id                                                                         \n",
       "sub-001  0.406802  0.406802  0.406802  0.406802  0.406802  0.406802  0.406802   \n",
       "sub-002  0.465263  0.465263  0.465263  0.465263  0.465263  0.465263  0.465263   \n",
       "sub-003  0.336491  0.336491  0.336491  0.336491  0.336491  0.336491  0.336491   \n",
       "sub-004  0.413539  0.495680  0.413539  0.495680  0.495680  0.495680  0.495680   \n",
       "sub-005  0.419102  0.419102  0.419102  0.419102  0.395473  0.419102  0.419102   \n",
       "\n",
       "         peak_Fp1  peak_Fp2   peak_Fz  ...     gp_O1     gp_O2     gp_P3  \\\n",
       "subj_id                                ...                                 \n",
       "sub-001  0.360120  0.406802  0.406802  ...  0.000305  0.000312  0.000297   \n",
       "sub-002  0.465263  0.465263  0.465263  ...  0.000410  0.000405  0.000395   \n",
       "sub-003  0.336491  0.336491  0.336491  ...  0.000133  0.000135  0.000125   \n",
       "sub-004  0.413539  0.495680  0.495680  ...  0.000429  0.000419  0.000382   \n",
       "sub-005  0.400448  0.419102  0.419102  ...  0.000467  0.000434  0.000443   \n",
       "\n",
       "            gp_P4     gp_Pz     gp_T3     gp_T4     gp_T5     gp_T6  gp_dx_num  \n",
       "subj_id                                                                         \n",
       "sub-001  0.000300  0.000299  0.000297  0.000299  0.000308  0.000302          1  \n",
       "sub-002  0.000390  0.000392  0.000401  0.000395  0.000407  0.000409          1  \n",
       "sub-003  0.000126  0.000122  0.000124  0.000124  0.000136  0.000142          1  \n",
       "sub-004  0.000388  0.000379  0.000400  0.000394  0.000386  0.000390          1  \n",
       "sub-005  0.000427  0.000421  0.000438  0.000428  0.000444  0.000427          1  \n",
       "\n",
       "[5 rows x 59 columns]"
      ]
     },
     "execution_count": 38,
     "metadata": {},
     "output_type": "execute_result"
    }
   ],
   "source": [
    "df_combined.head()\n"
   ]
  },
  {
   "cell_type": "markdown",
   "id": "5c4501d0",
   "metadata": {},
   "source": [
    "### Preparing data for CNN"
   ]
  },
  {
   "cell_type": "code",
   "execution_count": 39,
   "id": "5571742c",
   "metadata": {},
   "outputs": [],
   "source": [
    "X = df_combined.drop('gp_dx_num', axis = 1)\n",
    "y = df_combined['gp_dx_num']\n",
    "X_train, X_test, y_train, y_test = train_test_split(X, y, test_size = 0.2, random_state = 32, stratify = y)\n"
   ]
  },
  {
   "cell_type": "code",
   "execution_count": 281,
   "id": "1cee9834",
   "metadata": {},
   "outputs": [
    {
     "name": "stdout",
     "output_type": "stream",
     "text": [
      "Epoch 1/10\n",
      "18/18 [==============================] - 1s 10ms/step - loss: 0.6916 - accuracy: 0.6429 - val_loss: 0.6577 - val_accuracy: 0.6667\n",
      "Epoch 2/10\n",
      "18/18 [==============================] - 0s 3ms/step - loss: 0.6304 - accuracy: 0.6714 - val_loss: 0.9029 - val_accuracy: 0.6667\n",
      "Epoch 3/10\n",
      "18/18 [==============================] - 0s 3ms/step - loss: 0.6250 - accuracy: 0.6714 - val_loss: 1.5008 - val_accuracy: 0.6667\n",
      "Epoch 4/10\n",
      "18/18 [==============================] - 0s 3ms/step - loss: 0.6479 - accuracy: 0.6714 - val_loss: 0.9757 - val_accuracy: 0.6667\n",
      "Epoch 5/10\n",
      "18/18 [==============================] - 0s 3ms/step - loss: 0.5570 - accuracy: 0.6714 - val_loss: 0.5652 - val_accuracy: 0.6667\n",
      "Epoch 6/10\n",
      "18/18 [==============================] - 0s 3ms/step - loss: 0.4768 - accuracy: 0.8000 - val_loss: 1.5037 - val_accuracy: 0.7222\n",
      "Epoch 7/10\n",
      "18/18 [==============================] - 0s 3ms/step - loss: 0.5386 - accuracy: 0.7429 - val_loss: 1.6428 - val_accuracy: 0.7778\n",
      "Epoch 8/10\n",
      "18/18 [==============================] - 0s 3ms/step - loss: 0.3148 - accuracy: 0.8286 - val_loss: 1.3162 - val_accuracy: 0.7778\n",
      "Epoch 9/10\n",
      "18/18 [==============================] - 0s 3ms/step - loss: 0.1452 - accuracy: 0.9571 - val_loss: 7.3784 - val_accuracy: 0.7778\n",
      "Epoch 10/10\n",
      "18/18 [==============================] - 0s 3ms/step - loss: 0.7137 - accuracy: 0.9000 - val_loss: 0.3372 - val_accuracy: 0.8889\n",
      "1/1 [==============================] - 0s 17ms/step - loss: 0.3372 - accuracy: 0.8889\n",
      "Test Accuracy - CNN: 0.8888888955116272\n"
     ]
    }
   ],
   "source": [
    "# Normalize the data\n",
    "scaler = StandardScaler()\n",
    "X_train_scaled = scaler.fit_transform(X_train)\n",
    "X_test_scaled = scaler.transform(X_test)\n",
    "\n",
    "# Reshape the input data for CNN\n",
    "input_shape = (X_train_scaled.shape[1], 1)\n",
    "X_train_reshaped = X_train_scaled.reshape((-1,) + input_shape)\n",
    "X_test_reshaped = X_test_scaled.reshape((-1,) + input_shape)\n",
    "\n",
    "# Encode the target variable\n",
    "label_encoder = LabelEncoder()\n",
    "y_train_encoded = label_encoder.fit_transform(y_train)\n",
    "y_test_encoded = label_encoder.transform(y_test)\n",
    "\n",
    "# Create the CNN model\n",
    "model = Sequential()\n",
    "model.add(Conv1D(32, kernel_size=3, activation='relu', input_shape=input_shape))\n",
    "model.add(MaxPooling1D(pool_size=2))\n",
    "model.add(Conv1D(64, kernel_size=3, activation='relu'))\n",
    "model.add(MaxPooling1D(pool_size=2))\n",
    "model.add(Conv1D(128, kernel_size=3, activation='relu'))\n",
    "model.add(MaxPooling1D(pool_size=2))\n",
    "model.add(Conv1D(128, kernel_size=3, activation='relu'))\n",
    "model.add(MaxPooling1D(pool_size=2))\n",
    "model.add(Flatten())\n",
    "model.add(Dense(256, activation='relu'))\n",
    "model.add(Dense(2, activation='sigmoid'))\n",
    "\n",
    "# Compile the model\n",
    "optimizer = Adam(learning_rate=0.01)\n",
    "model.compile(loss='sparse_categorical_crossentropy', optimizer=optimizer, metrics=['accuracy'])\n",
    "\n",
    "# Train the model\n",
    "history = model.fit(X_train_reshaped, y_train_encoded, batch_size=4, epochs=10, validation_data=(X_test_reshaped, y_test_encoded))\n",
    "\n",
    "# Evaluate the model on the test set\n",
    "_, accuracy = model.evaluate(X_test_reshaped, y_test_encoded)\n",
    "print(\"Test Accuracy - CNN:\", accuracy)\n"
   ]
  },
  {
   "cell_type": "markdown",
   "id": "4e699d4b",
   "metadata": {},
   "source": [
    "### Plot Summary"
   ]
  },
  {
   "cell_type": "code",
   "execution_count": 266,
   "id": "1881e8ab",
   "metadata": {},
   "outputs": [
    {
     "name": "stdout",
     "output_type": "stream",
     "text": [
      "Model: \"sequential_65\"\n",
      "_________________________________________________________________\n",
      " Layer (type)                Output Shape              Param #   \n",
      "=================================================================\n",
      " conv1d_234 (Conv1D)         (None, 56, 32)            128       \n",
      "                                                                 \n",
      " max_pooling1d_230 (MaxPooli  (None, 28, 32)           0         \n",
      " ng1D)                                                           \n",
      "                                                                 \n",
      " conv1d_235 (Conv1D)         (None, 26, 64)            6208      \n",
      "                                                                 \n",
      " max_pooling1d_231 (MaxPooli  (None, 13, 64)           0         \n",
      " ng1D)                                                           \n",
      "                                                                 \n",
      " conv1d_236 (Conv1D)         (None, 11, 128)           24704     \n",
      "                                                                 \n",
      " max_pooling1d_232 (MaxPooli  (None, 5, 128)           0         \n",
      " ng1D)                                                           \n",
      "                                                                 \n",
      " conv1d_237 (Conv1D)         (None, 3, 128)            49280     \n",
      "                                                                 \n",
      " max_pooling1d_233 (MaxPooli  (None, 1, 128)           0         \n",
      " ng1D)                                                           \n",
      "                                                                 \n",
      " flatten_59 (Flatten)        (None, 128)               0         \n",
      "                                                                 \n",
      " dense_118 (Dense)           (None, 256)               33024     \n",
      "                                                                 \n",
      " dense_119 (Dense)           (None, 2)                 514       \n",
      "                                                                 \n",
      "=================================================================\n",
      "Total params: 113,858\n",
      "Trainable params: 113,858\n",
      "Non-trainable params: 0\n",
      "_________________________________________________________________\n"
     ]
    }
   ],
   "source": [
    "model.summary()"
   ]
  },
  {
   "cell_type": "markdown",
   "id": "a3553be4",
   "metadata": {},
   "source": [
    "In the provided model summary, we can observe a sequential architecture consisting of convolutional layers followed by max pooling layers. The model utilizes multiple convolutional layers with increasing numbers of filters to extract hierarchical features from the input data. The final layers consist of a flatten operation followed by dense layers, leading to a binary classification output (healthy vs dementia) with 2 neurons."
   ]
  },
  {
   "cell_type": "markdown",
   "id": "6e122efe",
   "metadata": {},
   "source": [
    "### Plotting Training and Validation Curves"
   ]
  },
  {
   "cell_type": "code",
   "execution_count": 306,
   "id": "9ef02956",
   "metadata": {
    "scrolled": true
   },
   "outputs": [
    {
     "data": {
      "image/png": "[encoded data removed]",
      "text/plain": [
       "<Figure size 400x300 with 1 Axes>"
      ]
     },
     "metadata": {},
     "output_type": "display_data"
    },
    {
     "data": {
      "image/png": "[encoded data removed]",
      "text/plain": [
       "<Figure size 400x300 with 1 Axes>"
      ]
     },
     "metadata": {},
     "output_type": "display_data"
    }
   ],
   "source": [
    "plt.figure(figsize=(4, 3))\n",
    "\n",
    "# Plot training & validation accuracy values\n",
    "plt.plot(history.history['accuracy'])\n",
    "plt.plot(history.history['val_accuracy'])\n",
    "plt.title('Model Accuracy')\n",
    "plt.xlabel('Epoch')\n",
    "plt.ylabel('Accuracy')\n",
    "plt.legend(['Train', 'Validation'], loc='upper left')\n",
    "plt.show()\n",
    "\n",
    "plt.figure(figsize=(4, 3))\n",
    "\n",
    "# Plot training & validation loss values\n",
    "plt.plot(history.history['loss'])\n",
    "plt.plot(history.history['val_loss'])\n",
    "plt.title('Model Loss')\n",
    "plt.xlabel('Epoch')\n",
    "plt.ylabel('Loss')\n",
    "plt.legend(['Train', 'Validation'], loc='upper left')\n",
    "plt.show()\n"
   ]
  },
  {
   "cell_type": "markdown",
   "id": "056bdc90",
   "metadata": {},
   "source": [
    "The accuracy graph shows an upward trend in accuracy from the 4th epoch onwards, indicating that the model's performance improves over time. It reaches a high accuracy of 89% on the 10th epoch, suggesting that the model has learned to make accurate predictions.\n",
    "\n",
    "Regarding the loss graph, it demonstrates that the model's loss remains consistently low throughout the training process. However, there is a slight increase in loss at the 8th epoch, indicating a temporary deviation. Fortunately, by the 10th epoch, the loss decreases again, implying that the model has managed to recover and maintain its performance."
   ]
  },
  {
   "cell_type": "markdown",
   "id": "d12faf4e",
   "metadata": {},
   "source": [
    "# Results"
   ]
  },
  {
   "cell_type": "markdown",
   "id": "c85295e6",
   "metadata": {},
   "source": [
    "## Results from ML models"
   ]
  },
  {
   "cell_type": "markdown",
   "id": "1b341868",
   "metadata": {},
   "source": [
    "The Decision Tree classifier outperforms the other models in terms of accuracy, precision score, and recall score. The Decision Tree model achieved the highest accuracy, indicating its overall correctness in predicting the disease status. Furthermore, it obtained the highest precision score, demonstrating its ability to correctly classify individuals with dementia. Additionally, the model exhibited the highest recall score, indicating its capability to identify a larger proportion of true positive cases. Based on these observations, the Decision Tree classifier emerges as the clear winner among the models considered in the analysis.\n",
    "\n",
    "The limited number of training samples in EEG data for dementia diagnosis may be a potential reason why random forest models may not outperform decision trees. Random forests typically benefit from a larger amount of training data to effectively capture complex patterns and improve generalization. \n"
   ]
  },
  {
   "cell_type": "markdown",
   "id": "7d7e3633",
   "metadata": {},
   "source": [
    "## Results from Convoluted Neural Networks"
   ]
  },
  {
   "cell_type": "markdown",
   "id": "4aca0df3",
   "metadata": {},
   "source": [
    "Despite the longer computational time required, the CNN neural network exhibited exceptional accuracy in diagnosing  Dementia and Healthy Aging. The utilization of deep learning techniques enabled the network to effectively extract intricate spatial and temporal features from the EEG data, leading to improved diagnostic accuracy compared to classical ML models."
   ]
  },
  {
   "cell_type": "markdown",
   "id": "47079255",
   "metadata": {},
   "source": [
    "## Overarching Non-Technical Results"
   ]
  },
  {
   "cell_type": "markdown",
   "id": "981f42b1",
   "metadata": {},
   "source": [
    "In summary, through the examination of the peak frequency, mean frequency, amd Global Powers of EEG components in subjects, we have achieved relatively accurate diagnoses of Dementia and Healthy Aging. Our results demonstrate the effectiveness of employing both classical ML models, particularly decision trees, as well as advanced techniques like CNNs to analyze EEG data and accurately classify neurological conditions. These findings hold promise for enhancing the diagnosis and understanding of these disorders, ultimately contributing to improved patient care and treatment strategies."
   ]
  },
  {
   "cell_type": "markdown",
   "id": "6c63c3c5",
   "metadata": {},
   "source": [
    "# Next Steps"
   ]
  },
  {
   "cell_type": "markdown",
   "id": "87957596",
   "metadata": {},
   "source": [
    "\n",
    "Investigation of feature importance: The identification of important features in the random forest model provides valuable insights into the underlying characteristics of neurological conditions. Researchers can delve deeper into these features to understand their physiological or neurological significance, potentially leading to the discovery of new biomarkers or informative features for diagnosis.\n",
    "\n",
    "Validation on larger and diverse datasets: While the current results show promise, validating the models on larger and more diverse datasets is crucial. ML scientists should seek opportunities to access and analyze larger cohorts of EEG data to ensure the generalizability and robustness of their models. This can involve collaborations with research institutions, medical centers, or data sharing initiatives.\n",
    "\n",
    "Translation to clinical practice: To make a real impact, ML scientists should work closely with clinicians, neurologists, and healthcare professionals to validate the models in clinical settings. The field can benefit from collaborative efforts to integrate ML algorithms into existing diagnostic workflows and evaluate their performance in real-world scenarios. This will help in assessing the feasibility, reliability, and practical utility of the developed models."
   ]
  }
 ],
 "metadata": {
  "kernelspec": {
   "display_name": "Python 3 (ipykernel)",
   "language": "python",
   "name": "python3"
  },
  "language_info": {
   "codemirror_mode": {
    "name": "ipython",
    "version": 3
   },
   "file_extension": ".py",
   "mimetype": "text/x-python",
   "name": "python",
   "nbconvert_exporter": "python",
   "pygments_lexer": "ipython3",
   "version": "3.10.9"
  }
 },
 "nbformat": 4,
 "nbformat_minor": 5
}
